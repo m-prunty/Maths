{
 "cells": [
  {
   "cell_type": "code",
   "execution_count": 3,
   "metadata": {},
   "outputs": [],
   "source": [
    "import numpy as np\n",
    "import matplotlib.pyplot as plt\n",
    "from IPython.display import Math\n",
    "import sympy as sym\n",
    "import scipy as sci\n",
    "from scipy import linalg\n",
    "from IPython.display import display, Latex\n",
    "from sympy import matrices\n",
    "\n",
    "\n",
    "x, y, z,p,q,r,s,t, a,b,c,d,e,f,g,h,i = sym.symbols('x y z p q r s t a b c d e f g h i')\n",
    "a0,a1,a2,a3,a4,a5,a6,a7,a8,x9 = sym.symbols('a:10')\n",
    "b0,b1,b2,b3,b4,b5,b6,b7,b8,b9 = sym.symbols('b:10')\n",
    "x0,x1,x2,x3,x4,x5,x6,x7,x8,x9 = sym.symbols('x:10')\n",
    "y0,y1,y2,y3,y4,y5,y6,y7,y8,y9 = sym.symbols('y:10')\n",
    "z0,z1,z2,z3,z4,z5,z6,z7,z8,z9 = sym.symbols('z:10')\n",
    "λ = sym.symbols('λ')\n",
    "pm = np.array([+1, -1])\n",
    "arr = lambda A: sym.Matrix(np.array(A))\n",
    "invV= lambda v: arr(v[::-1])\n",
    "\n",
    "#elementary_row_op(op='n->kn', row=None, k=None, row1=None, row2=None)\n",
    "#“n->kn” (row n goes to k*n)        “n<->m” (swap row n and row m)          “n->n+km” (row n goes to row n + k*row m)\n",
    "opR = sym.matrices.matrices.MatrixReductions.elementary_row_op\n",
    "\n",
    "sym.init_printing()"
   ]
  },
  {
   "cell_type": "code",
   "execution_count": 6,
   "metadata": {},
   "outputs": [],
   "source": [
    "#n= lambda : [i for i in enumerate([int(i) if i.isnumeric() else i for i in input()])]\n",
    "n= lambda s = '' : np.array([int(i) if i.isnumeric() ==True else sym.sympify(i)  for i in input(s)]   )       \n",
    "#neg = lambda : np.array([int(i) * int(input('mulitply by negatives')) for i in n('insert values')])\n",
    "\n",
    "\n",
    "\n",
    "# Dot product v*w = v1*w1 + v2*w2 +...+ vn*wn\n",
    "dotv = lambda v, w: sum(v*w)\n",
    "\n",
    "#Length of vector ||v|| = √v1^2 +v2^2+...+vn^2\n",
    "lenv = lambda v: np.sqrt(sum(v**2))\n",
    "\n",
    "#unit vector in same dir as u = v / ||v||\n",
    "unitv = lambda v:  v/lenv(v)\n",
    "\n",
    "#cosθ = u*U where both are unit vectors or v*w / ||v||*||w||\n",
    "cosθ = lambda v, w: dotv(unitv(v), unitv(w))\n",
    "\n",
    "#Converts resulting radians into degrees\n",
    "degθ = lambda θ : np.arccos(θ)* 180 / np.pi\n",
    "\n",
    "#schwarz inequality |v*w| <= ||v||*||w||\n",
    "#truthSch = \n",
    "schwarz =  (lambda v,w : f'{round(dotv(v,w),3)} <= {round(lenv(v) * lenv(w), 3)}'\n",
    "                        if dotv(v,w) <= lenv(v) * lenv(w) \n",
    "                        else False)\n",
    "\n",
    "#triangle inequality ||v + w|| <= ||v||+||w||\n",
    "\n",
    "triIneq =  (lambda v,w :f'{round(lenv(v+w),3)} <= {round(lenv(v) + lenv(w), 3)}'\n",
    "                        if lenv(v+w) <= lenv(v) + lenv(w) \n",
    "                        else False)\n",
    "\n",
    "\n",
    "#concatenates vectors to an array\n",
    "Avw = lambda v,w : np.array([v,w])\n",
    "\n",
    "#  det[[a,b],[c,d]]  = ad-bc\n",
    "detv  = lambda v,w: ((v * w[::-1])[0]) - ((v * w[::-1])[1])\n",
    "\n",
    "detA2  = lambda A : (A[0,:][0] * A[1,::-1][0]) -  (A[0,:][1] * A[1,::-1][1])\n",
    "\n",
    "detA3 = lambda A : sum([A[0]*detA2(A[[1,2],[1,2]]) , A[1]*detA2(A[[1,2],[0,2]]),  A[2]*detA2(A[[1,2],[0,1]])] * cofactors(np.array(A))[0,:])\n",
    "\n",
    "#detA4plus = lambda A : \n",
    "\n",
    "\n",
    "#I = lambda A: [[j for j in  i ]for i in  range(len(A))]\n",
    "#I = lambda A: np.array([[ 1 if i[0] == j[0] else 0 for j in enumerate(A[i[0]])] for i in enumerate(A)])\n",
    "I = lambda n: sym.Matrix(n,n,( lambda i,j: 1 if i == j else 0))\n",
    "#Cross product for 2 vectors w/ len 3\n",
    "# u= [a, b, c], \n",
    "# v= [d, e, f] ; u x v = [bf - ce, af - cd, ae - bd]\n",
    "# or [ detA( without col 1), - detA( w/o col 2), detA( w/o col 3) ]  \n",
    "cross = lambda v,w:    np.array(\n",
    "                        [detA2(np.stack(( Avw(v,w)[::,1], Avw(v,w)[::,2]),axis = 1)),\n",
    "                        detA2(np.stack(( Avw(v,w)[::,0], Avw(v,w)[::,2]),axis = 1)),\n",
    "                        detA2(np.stack(( Avw(v,w)[::,0], Avw(v,w)[::,1]),axis = 1))\n",
    "                        ])#* cofactors(Avw(v,w))\n",
    "\n",
    "crossv= lambda v,w : cofactors(Avw(v,w))[0] * cross(v,w) \n",
    "\n",
    "\n",
    "#cofactor given by taking the index of A_ij and evaluating as C_ij = (-1)^i+j resulting in meagtive or posivte one\n",
    "\n",
    "cofactors = lambda A:  (-1)**np.array([[sum(np.array([i[0]+1,j[0]+1]))\n",
    "                        for j in enumerate(A[i[0]])] \n",
    "                        for i in enumerate(A)])\n",
    "                        \n",
    "                        \n",
    "#trace = sum of the diagonals\n",
    "tr = lambda A : sum([(A[i,i]) for i in range(len(A[0,::])) ])\n",
    "\n",
    "\n",
    "\n",
    "#Char Polynomial p(λ)=λ2−tr(A)λ+det(A), returns sympy polynomial object \n",
    "cpR2 = lambda A: sym.Poly((λ**2 - tr(A)*λ + detA2(A)),λ) \n",
    "#CP= −λ^3 + tr(A) λ^2 + 1/2 (tr(A)^2 − tr(A^2))λ + det(A)\n",
    "cpR3 = lambda A: sym.Poly((  -λ**3 + tr(A) * λ**2 + 1/2 * (tr(A)**2 - tr(A**2) ) *λ + detA3(A)))\n",
    "\n",
    "# -b form to find roots MUST come as list [a,b,c] use negB(P.coeffs())\n",
    "negB = lambda P : (-P[1] + pm *  sym.sqrt(P[1]**2 - 4*P[0]*P[2]) )/ 2*P[0]\n",
    "\n",
    "AλI = lambda A: (A-λ*I(A))\n",
    "\n",
    "EigenValues = lambda A : negB(cpR2(A).coeffs()) \n",
    "\n",
    "EigenMatrix= lambda A : AλI(A)*arr([a,b])#.subs(λ, [i for i in EigenValues(A)])\n",
    "\n",
    "EigenPolys = lambda A: [[(EigenMatrix(A)[0][0] + EigenMatrix(A)[0][1]).subs(λ, i) ,\n",
    "                        (EigenMatrix(A)[1][0] + EigenMatrix(A)[1][1]).subs(λ,i)] \n",
    "                        for i in EigenValues(A)]\n",
    "\n",
    "\n"
   ]
  },
  {
   "cell_type": "code",
   "execution_count": 7,
   "metadata": {},
   "outputs": [
    {
     "ename": "NameError",
     "evalue": "name 'A' is not defined",
     "output_type": "error",
     "traceback": [
      "\u001b[0;31m---------------------------------------------------------------------------\u001b[0m",
      "\u001b[0;31mNameError\u001b[0m                                 Traceback (most recent call last)",
      "\u001b[0;32m<ipython-input-7-4843a6c9de10>\u001b[0m in \u001b[0;36m<module>\u001b[0;34m\u001b[0m\n\u001b[0;32m----> 1\u001b[0;31m \u001b[0mcpR3\u001b[0m\u001b[0;34m(\u001b[0m\u001b[0mA\u001b[0m\u001b[0;34m)\u001b[0m\u001b[0;34m,\u001b[0m \u001b[0mdetA3\u001b[0m\u001b[0;34m(\u001b[0m\u001b[0mA\u001b[0m\u001b[0;34m)\u001b[0m\u001b[0;34m,\u001b[0m \u001b[0mtr\u001b[0m\u001b[0;34m(\u001b[0m\u001b[0mA\u001b[0m\u001b[0;34m)\u001b[0m\u001b[0;34m**\u001b[0m\u001b[0;36m2\u001b[0m\u001b[0;34m,\u001b[0m \u001b[0mtr\u001b[0m\u001b[0;34m(\u001b[0m\u001b[0mA\u001b[0m\u001b[0;34m**\u001b[0m\u001b[0;36m2\u001b[0m\u001b[0;34m)\u001b[0m\u001b[0;34m\u001b[0m\u001b[0;34m\u001b[0m\u001b[0m\n\u001b[0m\u001b[1;32m      2\u001b[0m \u001b[0mI\u001b[0m\u001b[0;34m(\u001b[0m\u001b[0;36m3\u001b[0m\u001b[0;34m)\u001b[0m\u001b[0;34m\u001b[0m\u001b[0;34m\u001b[0m\u001b[0m\n",
      "\u001b[0;31mNameError\u001b[0m: name 'A' is not defined"
     ]
    }
   ],
   "source": [
    "cpR3(A), detA3(A), tr(A)**2, tr(A**2)\n",
    "I(3)"
   ]
  },
  {
   "cell_type": "code",
   "execution_count": 64,
   "metadata": {},
   "outputs": [],
   "source": [
    "#defines matrix with values, sign and shape\n",
    "Amat  = lambda : (np.reshape(np.asarray(n('input array integers'))  * \n",
    "                                    [ i if i == 1 \n",
    "                                        else -1 \n",
    "                                        for i in n('input 1 for pos, 0 for neg')],\n",
    "                            n('input array shape'))) \n",
    "\n",
    "\n",
    "#Takes matrices A,B  gets the dot product from row A * col B\n",
    "dotA = lambda A,B : np.array([[dotv(A[i] , B[::,j]) for j in range(B.shape[1])] for i in range(A.shape[0])])\n",
    "\n",
    "#dotA = lambda A,B : np.array(  [[dotv(A[0],B[::,0]), dotv(A[0],B[::,1]), dotv(A[0],B[::,2])],\n",
    "                            #    [dotv(A[1],B[::,0]), dotv(A[1],B[::,1]), dotv(A[1],B[::,2])]])\n",
    "\n",
    "#takes a 3x3 matrix [[a,b,c],\n",
    "#                    [d,e,f],multi-augmented row reduction.(dh - eg)\n",
    "detA3 = lambda A:  np.sum((cross(A[1],A[2]) * A[0]) * cofactors(A))\n",
    "\n",
    "#Transpose: takes matrix of shape m x n and rewrites with columns in rows with shape n x m\n",
    "transA = lambda A : np.array([[A[::,i][j] for j in range(A.shape[0])] for i in range(A.shape[1])])\n",
    "\n",
    "#matrix of minors for A = m x n is found by filling each postion withthe det excluding its own col and row\n",
    "# i.e   [[a,b,c],\n",
    "#        [d,e,f],\n",
    "#        [g,h,i]] pos a = det([ef][hi]), b= det([dg][fi]),...,i=det([ab][de]) \n",
    "minorA = lambda A : np.array([cross(A[1],A[2]), cross(A[0],A[2]), cross(A[0],A[1])] ) \n",
    "\n",
    "#adjoint is the matrix of minors of the transpose of A times the cofactors \n",
    "adjA = lambda A: minorA(transA(A)) * cofactors(A)\n",
    "\n",
    "#The inverse of A; A^-1 = adjA/detA \n",
    "#given here as a list showing det , adjA\n",
    "invA = lambda A : [ detA3(A), adjA(A) ]\n",
    "\n",
    "#and here as the calculated matrix\n",
    "invAcalc = lambda A :  adjA(A)/detA3(A)\n"
   ]
  },
  {
   "cell_type": "code",
   "execution_count": 65,
   "metadata": {},
   "outputs": [],
   "source": [
    "M = Amat()"
   ]
  },
  {
   "cell_type": "code",
   "execution_count": 89,
   "metadata": {},
   "outputs": [
    {
     "name": "stdout",
     "output_type": "stream",
     "text": [
      "1 0\n"
     ]
    },
    {
     "data": {
      "text/latex": [
       "$\\displaystyle \\left( \\left[\\begin{matrix}1 & -3 & 3 & 0\\\\0 & 0 & -5 & 5\\\\2 & -6 & 3 & 3\\\\4 & -12 & 0 & 12\\end{matrix}\\right], \\  \\left[\\begin{matrix}1 & 0 & 0 & 0\\\\-3 & 1 & 0 & 0\\\\0 & 0 & 1 & 0\\\\0 & 0 & 0 & 1\\end{matrix}\\right]\\right)$"
      ],
      "text/plain": [
       "⎛⎡1  -3   3   0 ⎤  ⎡1   0  0  0⎤⎞\n",
       "⎜⎢              ⎥  ⎢           ⎥⎟\n",
       "⎜⎢0   0   -5  5 ⎥  ⎢-3  1  0  0⎥⎟\n",
       "⎜⎢              ⎥, ⎢           ⎥⎟\n",
       "⎜⎢2  -6   3   3 ⎥  ⎢0   0  1  0⎥⎟\n",
       "⎜⎢              ⎥  ⎢           ⎥⎟\n",
       "⎝⎣4  -12  0   12⎦  ⎣0   0  0  1⎦⎠"
      ]
     },
     "metadata": {},
     "output_type": "display_data"
    },
    {
     "name": "stdout",
     "output_type": "stream",
     "text": [
      "2 0\n"
     ]
    },
    {
     "data": {
      "text/latex": [
       "$\\displaystyle \\left( \\left[\\begin{matrix}1 & -3 & 3 & 0\\\\0 & 0 & -5 & 5\\\\0 & 0 & -3 & 3\\\\4 & -12 & 0 & 12\\end{matrix}\\right], \\  \\left[\\begin{matrix}1 & 0 & 0 & 0\\\\0 & 1 & 0 & 0\\\\-2 & 0 & 1 & 0\\\\0 & 0 & 0 & 1\\end{matrix}\\right]\\right)$"
      ],
      "text/plain": [
       "⎛⎡1  -3   3   0 ⎤  ⎡1   0  0  0⎤⎞\n",
       "⎜⎢              ⎥  ⎢           ⎥⎟\n",
       "⎜⎢0   0   -5  5 ⎥  ⎢0   1  0  0⎥⎟\n",
       "⎜⎢              ⎥, ⎢           ⎥⎟\n",
       "⎜⎢0   0   -3  3 ⎥  ⎢-2  0  1  0⎥⎟\n",
       "⎜⎢              ⎥  ⎢           ⎥⎟\n",
       "⎝⎣4  -12  0   12⎦  ⎣0   0  0  1⎦⎠"
      ]
     },
     "metadata": {},
     "output_type": "display_data"
    },
    {
     "name": "stdout",
     "output_type": "stream",
     "text": [
      "3 0\n"
     ]
    },
    {
     "data": {
      "text/latex": [
       "$\\displaystyle \\left( \\left[\\begin{matrix}1 & -3 & 3 & 0\\\\0 & 0 & -5 & 5\\\\0 & 0 & -3 & 3\\\\0 & 0 & -12 & 12\\end{matrix}\\right], \\  \\left[\\begin{matrix}1 & 0 & 0 & 0\\\\0 & 1 & 0 & 0\\\\0 & 0 & 1 & 0\\\\-4 & 0 & 0 & 1\\end{matrix}\\right]\\right)$"
      ],
      "text/plain": [
       "⎛⎡1  -3   3   0 ⎤  ⎡1   0  0  0⎤⎞\n",
       "⎜⎢              ⎥  ⎢           ⎥⎟\n",
       "⎜⎢0  0   -5   5 ⎥  ⎢0   1  0  0⎥⎟\n",
       "⎜⎢              ⎥, ⎢           ⎥⎟\n",
       "⎜⎢0  0   -3   3 ⎥  ⎢0   0  1  0⎥⎟\n",
       "⎜⎢              ⎥  ⎢           ⎥⎟\n",
       "⎝⎣0  0   -12  12⎦  ⎣-4  0  0  1⎦⎠"
      ]
     },
     "metadata": {},
     "output_type": "display_data"
    },
    {
     "name": "stdout",
     "output_type": "stream",
     "text": [
      "2 1\n",
      "3 2\n"
     ]
    },
    {
     "data": {
      "text/latex": [
       "$\\displaystyle \\left( \\left[\\begin{matrix}1 & -3 & 3 & 0\\\\0 & 0 & -5 & 5\\\\0 & 0 & -3 & 3\\\\0 & 0 & 0 & 0\\end{matrix}\\right], \\  \\left[\\begin{matrix}1 & 0 & 0 & 0\\\\0 & 1 & 0 & 0\\\\0 & 0 & 1 & 0\\\\0 & 0 & -4 & 1\\end{matrix}\\right]\\right)$"
      ],
      "text/plain": [
       "⎛⎡1  -3  3   0⎤  ⎡1  0  0   0⎤⎞\n",
       "⎜⎢            ⎥  ⎢           ⎥⎟\n",
       "⎜⎢0  0   -5  5⎥  ⎢0  1  0   0⎥⎟\n",
       "⎜⎢            ⎥, ⎢           ⎥⎟\n",
       "⎜⎢0  0   -3  3⎥  ⎢0  0  1   0⎥⎟\n",
       "⎜⎢            ⎥  ⎢           ⎥⎟\n",
       "⎝⎣0  0   0   0⎦  ⎣0  0  -4  1⎦⎠"
      ]
     },
     "metadata": {},
     "output_type": "display_data"
    },
    {
     "data": {
      "text/latex": [
       "$\\displaystyle \\left[\\begin{matrix}1 & -3 & 3 & 0\\\\0 & 0 & -5 & 5\\\\0 & 0 & -3 & 3\\\\0 & 0 & 0 & 0\\end{matrix}\\right]$"
      ],
      "text/plain": [
       "⎡1  -3  3   0⎤\n",
       "⎢            ⎥\n",
       "⎢0  0   -5  5⎥\n",
       "⎢            ⎥\n",
       "⎢0  0   -3  3⎥\n",
       "⎢            ⎥\n",
       "⎣0  0   0   0⎦"
      ]
     },
     "metadata": {},
     "output_type": "display_data"
    },
    {
     "data": {
      "text/latex": [
       "$\\displaystyle \\left[\\begin{matrix}1 & -3 & 3 & 0\\\\0 & 0 & -5 & 5\\\\0 & 0 & 0 & 0\\\\0 & 0 & 0 & 0\\end{matrix}\\right]$"
      ],
      "text/plain": [
       "⎡1  -3  3   0⎤\n",
       "⎢            ⎥\n",
       "⎢0  0   -5  5⎥\n",
       "⎢            ⎥\n",
       "⎢0  0   0   0⎥\n",
       "⎢            ⎥\n",
       "⎣0  0   0   0⎦"
      ]
     },
     "execution_count": 89,
     "metadata": {},
     "output_type": "execute_result"
    }
   ],
   "source": [
    "M[3,1],M[3,3]=-12,12\n",
    "M = arr(M)\n",
    "ref(M)\n",
    "M.echelon_form()"
   ]
  },
  {
   "cell_type": "code",
   "execution_count": 145,
   "metadata": {},
   "outputs": [
    {
     "data": {
      "text/latex": [
       "$\\displaystyle \\left[\\begin{matrix}1 & 2 & 3\\\\3 & 6 & 2\\\\2 & 2 & 1\\end{matrix}\\right]$"
      ],
      "text/plain": [
       "⎡1  2  3⎤\n",
       "⎢       ⎥\n",
       "⎢3  6  2⎥\n",
       "⎢       ⎥\n",
       "⎣2  2  1⎦"
      ]
     },
     "metadata": {},
     "output_type": "display_data"
    },
    {
     "name": "stdout",
     "output_type": "stream",
     "text": [
      "False 0 0 1\n"
     ]
    },
    {
     "data": {
      "text/latex": [
       "$\\displaystyle \\left( \\left[\\begin{matrix}-1 & -2 & -3\\\\3 & 6 & 2\\\\2 & 2 & 1\\end{matrix}\\right], \\  \\left[\\begin{matrix}-1 & 0 & 0\\\\0 & 1 & 0\\\\0 & 0 & 1\\end{matrix}\\right]\\right)$"
      ],
      "text/plain": [
       "⎛⎡-1  -2  -3⎤  ⎡-1  0  0⎤⎞\n",
       "⎜⎢          ⎥  ⎢        ⎥⎟\n",
       "⎜⎢3   6   2 ⎥, ⎢0   1  0⎥⎟\n",
       "⎜⎢          ⎥  ⎢        ⎥⎟\n",
       "⎝⎣2   2   1 ⎦  ⎣0   0  1⎦⎠"
      ]
     },
     "metadata": {},
     "output_type": "display_data"
    },
    {
     "name": "stdout",
     "output_type": "stream",
     "text": [
      "1\n",
      "False 1 0 3\n"
     ]
    },
    {
     "data": {
      "text/latex": [
       "$\\displaystyle \\left( \\left[\\begin{matrix}-1 & -2 & -3\\\\0 & 0 & -7\\\\2 & 2 & 1\\end{matrix}\\right], \\  \\left[\\begin{matrix}1 & 0 & 0\\\\3 & 1 & 0\\\\0 & 0 & 1\\end{matrix}\\right]\\right)$"
      ],
      "text/plain": [
       "⎛⎡-1  -2  -3⎤  ⎡1  0  0⎤⎞\n",
       "⎜⎢          ⎥  ⎢       ⎥⎟\n",
       "⎜⎢0   0   -7⎥, ⎢3  1  0⎥⎟\n",
       "⎜⎢          ⎥  ⎢       ⎥⎟\n",
       "⎝⎣2   2   1 ⎦  ⎣0  0  1⎦⎠"
      ]
     },
     "metadata": {},
     "output_type": "display_data"
    },
    {
     "name": "stdout",
     "output_type": "stream",
     "text": [
      "-1\n",
      "False 2 0 2\n"
     ]
    },
    {
     "data": {
      "text/latex": [
       "$\\displaystyle \\left( \\left[\\begin{matrix}-1 & -2 & -3\\\\0 & 0 & -7\\\\0 & -2 & -5\\end{matrix}\\right], \\  \\left[\\begin{matrix}1 & 0 & 0\\\\0 & 1 & 0\\\\2 & 0 & 1\\end{matrix}\\right]\\right)$"
      ],
      "text/plain": [
       "⎛⎡-1  -2  -3⎤  ⎡1  0  0⎤⎞\n",
       "⎜⎢          ⎥  ⎢       ⎥⎟\n",
       "⎜⎢0   0   -7⎥, ⎢0  1  0⎥⎟\n",
       "⎜⎢          ⎥  ⎢       ⎥⎟\n",
       "⎝⎣0   -2  -5⎦  ⎣2  0  1⎦⎠"
      ]
     },
     "metadata": {},
     "output_type": "display_data"
    },
    {
     "name": "stdout",
     "output_type": "stream",
     "text": [
      "-1\n",
      "True 1 1 0\n",
      "ctd\n"
     ]
    },
    {
     "data": {
      "text/latex": [
       "$\\displaystyle \\left[\\begin{matrix}-1 & -2 & -3\\\\0 & 0 & -7\\\\0 & -2 & -5\\end{matrix}\\right]$"
      ],
      "text/plain": [
       "⎡-1  -2  -3⎤\n",
       "⎢          ⎥\n",
       "⎢0   0   -7⎥\n",
       "⎢          ⎥\n",
       "⎣0   -2  -5⎦"
      ]
     },
     "execution_count": 145,
     "metadata": {},
     "output_type": "execute_result"
    }
   ],
   "source": [
    "def elBuild(n, i=0, j=0, x=1): \n",
    "    el = I(n)\n",
    "    el[i,j] = x\n",
    "    #display(el)\n",
    "    return el\n",
    "\n",
    "def elSwap(n, i,j) :\n",
    "    el = elBuild(n)\n",
    "    el.elementary_row_op(op='n<->m', row1=i,row=j)\n",
    "    return el\n",
    "    \n",
    "\n",
    "def ref(A):\n",
    "    lenA = len(A[:,0] )-1\n",
    "    #piv = A[0,0], A[0,:]\n",
    "    n = len(A[0,:])\n",
    "    m = len(A[:,0])\n",
    "    minDim = min(n,m)\n",
    "    display(A)\n",
    "    # Let's do forward step first.\n",
    "    # at the end of this for loop, the matrix is in Row-Echelon form.\n",
    "   \n",
    "\n",
    "    for c in range(minDim):\n",
    "        \n",
    "        # every iteration, ignore one more row and column\n",
    "        for r in range(c, minDim):\n",
    "            piv=A[c,c], A[r,:]\n",
    "            # find the first row with a nonzero entry in first column\n",
    "            zero_row = A[r,c] == 0\n",
    "            print (zero_row, r,c, A[r,c])\n",
    "            if zero_row:\n",
    "                print('ctd')\n",
    "                #continue\n",
    "                return A\n",
    "\n",
    "            for i in range(c,minDim):\n",
    "                E = elBuild(minDim,r,c,- A[r,c]/piv[0])\n",
    "                A = E*A\n",
    "                display((A,E))\n",
    "            \n",
    "            else:#  A[r,c] == 0:\n",
    "                #A[[j,:]] = A[[j+1,:]]\n",
    "                #print(i,j)\n",
    "                E = elSwap(lenA+1,r,c)\n",
    "                A = E*A#A.elementary_row_op(op='n<->m', row1=i,row=j)\n",
    "                display((A,E))\n",
    "            print(piv[0])\n",
    "\n",
    "    '''for j in range(lenA): \n",
    "        \n",
    "        piv=A[j,j], A[j,:]\n",
    "        #print (piv)\n",
    "        \n",
    "        i = 0\n",
    "        \n",
    "        #print(f'j: {j}')\n",
    "        while i < lenA - j :\n",
    "            i += 1+j\n",
    "            \n",
    "            print(i,j)\n",
    "            #print(A[i,j])\n",
    "            if piv[0] != 0 :\n",
    "                \n",
    "\n",
    "                E = elBuild(lenA+1,i,j,- A[i,j]/piv[0])\n",
    "                A = E*A\n",
    "                display((A,E))\n",
    "                \n",
    "            elif  A[i,j] != 0:\n",
    "                #A[[j,:]] = A[[j+1,:]]\n",
    "                #print(i,j)\n",
    "                E = elSwap(lenA+1,i,j)\n",
    "                A = E*A#A.elementary_row_op(op='n<->m', row1=i,row=j)\n",
    "                display((A,E))\n",
    "                #print(A[i,j], A)\n",
    "                #break'''\n",
    "                \n",
    "    return display(A)\n",
    "\n",
    "ref(A)"
   ]
  },
  {
   "cell_type": "code",
   "execution_count": 29,
   "metadata": {},
   "outputs": [
    {
     "name": "stdout",
     "output_type": "stream",
     "text": [
      "Matrix([[1, 0, 0], [-2, 1, 0], [0, 0, 1]])\n"
     ]
    },
    {
     "data": {
      "text/latex": [
       "$\\displaystyle \\left( \\left[\\begin{matrix}1 & 2 & 3\\\\3 & 6 & 2\\\\2 & 2 & 1\\end{matrix}\\right], \\  \\left[\\begin{matrix}1 & 0 & 0\\\\-3 & 1 & 0\\\\0 & 0 & 1\\end{matrix}\\right], \\  \\left[\\begin{matrix}1 & 2 & 3\\\\0 & 0 & -7\\\\2 & 2 & 1\\end{matrix}\\right]\\right)$"
      ],
      "text/plain": [
       "⎛⎡1  2  3⎤  ⎡1   0  0⎤  ⎡1  2  3 ⎤⎞\n",
       "⎜⎢       ⎥  ⎢        ⎥  ⎢        ⎥⎟\n",
       "⎜⎢3  6  2⎥, ⎢-3  1  0⎥, ⎢0  0  -7⎥⎟\n",
       "⎜⎢       ⎥  ⎢        ⎥  ⎢        ⎥⎟\n",
       "⎝⎣2  2  1⎦  ⎣0   0  1⎦  ⎣2  2  1 ⎦⎠"
      ]
     },
     "execution_count": 29,
     "metadata": {},
     "output_type": "execute_result"
    }
   ],
   "source": [
    "A= arr([[1,2,3],[3,6,2],[2,2,1]])\n",
    "M = sym.Matrix([[1, 0, 0], [-3, 1, 0], [0, 0, 1]])\n",
    "A\n",
    "\n",
    "\n",
    "#A[:,0]\n",
    "A[1,0], [i for i in range(len(A[:,0]))]\n",
    "I(3), \n",
    "a = elBuild(3,1,0,-2)\n",
    "A[0,:]\n",
    "A,M, M*A #sym.DotProduct(A,M)"
   ]
  },
  {
   "cell_type": "code",
   "execution_count": 127,
   "metadata": {},
   "outputs": [
    {
     "data": {
      "text/plain": [
       "array([[ 2,  3,  4],\n",
       "       [ 6,  7,  8],\n",
       "       [ 8,  9, 10]])"
      ]
     },
     "metadata": {},
     "output_type": "display_data"
    },
    {
     "name": "stdout",
     "output_type": "stream",
     "text": [
      "False 0 0 2\n",
      "False 1 1 -2\n",
      "True 2 2 0\n",
      "ctd\n",
      "[[ 2  3  4]\n",
      " [ 0 -2 -4]\n",
      " [ 0  0  0]]\n",
      "[[ 1  0 -1]\n",
      " [ 0  1  2]\n",
      " [ 0  0  0]]\n",
      "[-1, 2, 0]\n"
     ]
    }
   ],
   "source": [
    "def like_a_gauss(mat):\n",
    "\t\"\"\"\n",
    "\tChanges mat into Reduced Row-Echelon Form.\n",
    "\t\"\"\"\n",
    "\tn = len(mat[0,:])\n",
    "\tm = len(mat[:,0])\n",
    "\tminDim = min(n,m)\n",
    "\tdisplay(mat)\n",
    "\t# Let's do forward step first.\n",
    "\t# at the end of this for loop, the matrix is in Row-Echelon format.\n",
    "\tfor c in range(minDim):\n",
    "\t\t# every iteration, ignore one more row and column\n",
    "\t\tfor r in range(c, minDim):\n",
    "\t\t\t# find the first row with a nonzero entry in first column\n",
    "\t\t\tzero_row = mat[r,c] == 0\n",
    "\t\t\tprint (zero_row, r,c, mat[r][c])\n",
    "\t\t\tif zero_row:\n",
    "\t\t\t\tprint('ctd')\n",
    "\t\t\t\tcontinue\n",
    "\t\t\t# swap current row with first row\n",
    "\t\t\tmat[c], mat[r] = mat[r], mat[c]\n",
    "\t\t\t# add multiples of the new first row to lower rows so lower\n",
    "\t\t\t# entries of first column is zero\n",
    "\t\t\tfirst_row_first_col = mat[c][c]\n",
    "\t\t\tfor rr in range(c + 1, len(mat)):\n",
    "\t\t\t\tthis_row_first = mat[rr][c]\n",
    "\t\t\t\tscalarMultiple = -1 * this_row_first / first_row_first_col\n",
    "\t\t\t\tfor cc in range(c, len(mat[0])):\n",
    "\t\t\t\t\tmat[rr][cc] += mat[c][cc] * scalarMultiple\n",
    "\t\t\tbreak\n",
    "\n",
    "\t# At the end of the forward step\n",
    "\tprint(mat)\n",
    "\t# Now reduce\n",
    "\tfor i in range(min(len(mat), len(mat[0])) - 1, -1, -1):\n",
    "\t\t# divide last non-zero row by first non-zero entry\n",
    "\t\tfirst_elem_col = -1\n",
    "\t\tfirst_elem = -1\n",
    "\t\tfor c in range(len(mat[0])):\n",
    "\t\t\tif mat[i][c] == 0:\n",
    "\t\t\t\tcontinue\n",
    "\t\t\tif first_elem_col == -1:\n",
    "\t\t\t\tfirst_elem_col = c\n",
    "\t\t\t\tfirst_elem = mat[i][c]\n",
    "\t\t\tmat[i][c] /= first_elem\n",
    "\t\t# add multiples of this row so all numbers above the leading 1 is zero\n",
    "\t\tfor r in range(i):\n",
    "\t\t\tthis_row_above = mat[r][first_elem_col]\n",
    "\t\t\tscalarMultiple = -1 * this_row_above\n",
    "\t\t\tfor cc in range(len(mat[0])):\n",
    "\t\t\t\tmat[r][cc] += mat[i][cc] * scalarMultiple\n",
    "\t\t# disregard this row and continue\n",
    "\tprint(mat)\n",
    "\n",
    "\n",
    "def augment_that_sucker(mat1, mat2):\n",
    "\t\"\"\"\n",
    "\tDuct-tape mat2's columns to the right of mat1\n",
    "\tReturn a new matrix.\n",
    "\t\"\"\"\n",
    "\tretval = []\n",
    "\tfor i in range(len(mat1)):\n",
    "\t\tr = mat1[i]\n",
    "\t\tnewrow = r[:] + mat2[i]\n",
    "\t\tretval.append(newrow)\n",
    "\treturn np.array(retval)\n",
    "\n",
    "def from_vector(vector):\n",
    "\t\"\"\"\n",
    "\tConvert a vector into a column matrix.\n",
    "\t\"\"\"\n",
    "\tretval = []\n",
    "\tfor r in vector:\n",
    "\t\tretval.append([r])\n",
    "\treturn np.array(retval)\n",
    "\n",
    "def transpose(mat):\n",
    "\t\"\"\"\n",
    "\tReturn a transposed version of mat.\n",
    "\t\"\"\"\n",
    "\tretval = []\n",
    "\tfor c in range(len(mat[0])):\n",
    "\t\tnewrow = []\n",
    "\t\tfor r in range(len(mat)):\n",
    "\t\t\tnewrow.append(mat[r][c])\n",
    "\t\tretval.append(newrow)\n",
    "\treturn retval\n",
    "\n",
    "# testcase from http://reference.wolfram.com/mathematica/ref/RowReduce.html\n",
    "\n",
    "mattest = np.array([[1,2,3],[5,6,7],[7,8,9]])\n",
    "\n",
    "mattest2 = from_vector([1,1,1])\n",
    "\n",
    "mattest3 = augment_that_sucker(mattest, mattest2)\t\t\t\n",
    "\n",
    "like_a_gauss(mattest3)\n",
    "\n",
    "print(transpose(mattest3)[2])\n",
    "#like_a_gauss(A)\n",
    "\n"
   ]
  },
  {
   "cell_type": "code",
   "execution_count": 116,
   "metadata": {},
   "outputs": [
    {
     "data": {
      "text/latex": [
       "$\\displaystyle \\left( \\left[\\begin{matrix}1 & 2 & 3\\end{matrix}\\right], \\  \\left[\\begin{matrix}1\\\\3\\\\2\\end{matrix}\\right]\\right)$"
      ],
      "text/plain": [
       "⎛           ⎡1⎤⎞\n",
       "⎜           ⎢ ⎥⎟\n",
       "⎜[1  2  3], ⎢3⎥⎟\n",
       "⎜           ⎢ ⎥⎟\n",
       "⎝           ⎣2⎦⎠"
      ]
     },
     "execution_count": 116,
     "metadata": {},
     "output_type": "execute_result"
    }
   ],
   "source": [
    "#len(), len(A[:0]),np.array(mattest)[0,:]\n",
    "A[0,:],A[:,0]"
   ]
  },
  {
   "cell_type": "code",
   "execution_count": null,
   "metadata": {},
   "outputs": [
    {
     "ename": "IndexError",
     "evalue": "too many indices for array: array is 1-dimensional, but 2 were indexed",
     "output_type": "error",
     "traceback": [
      "\u001b[0;31m---------------------------------------------------------------------------\u001b[0m",
      "\u001b[0;31mIndexError\u001b[0m                                Traceback (most recent call last)",
      "\u001b[0;32m<ipython-input-16-2c7933145248>\u001b[0m in \u001b[0;36m<module>\u001b[0;34m\u001b[0m\n\u001b[1;32m     17\u001b[0m \u001b[0;31m#detA2(A),tr(A),\u001b[0m\u001b[0;34m\u001b[0m\u001b[0;34m\u001b[0m\u001b[0;34m\u001b[0m\u001b[0m\n\u001b[1;32m     18\u001b[0m \u001b[0;31m#A[0],\u001b[0m\u001b[0;34m\u001b[0m\u001b[0;34m\u001b[0m\u001b[0;34m\u001b[0m\u001b[0m\n\u001b[0;32m---> 19\u001b[0;31m \u001b[0mdetA3\u001b[0m\u001b[0;34m(\u001b[0m\u001b[0mA\u001b[0m\u001b[0;34m)\u001b[0m\u001b[0;34m,\u001b[0m\u001b[0mtype\u001b[0m\u001b[0;34m(\u001b[0m\u001b[0mA\u001b[0m\u001b[0;34m)\u001b[0m\u001b[0;34m\u001b[0m\u001b[0;34m\u001b[0m\u001b[0m\n\u001b[0m",
      "\u001b[0;32m<ipython-input-14-7c0299b56c10>\u001b[0m in \u001b[0;36m<lambda>\u001b[0;34m(A)\u001b[0m\n\u001b[1;32m     15\u001b[0m \u001b[0;31m#takes a 3x3 matrix [[a,b,c],\u001b[0m\u001b[0;34m\u001b[0m\u001b[0;34m\u001b[0m\u001b[0;34m\u001b[0m\u001b[0m\n\u001b[1;32m     16\u001b[0m \u001b[0;31m#                    [d,e,f],multi-augmented row reduction.(dh - eg)\u001b[0m\u001b[0;34m\u001b[0m\u001b[0;34m\u001b[0m\u001b[0;34m\u001b[0m\u001b[0m\n\u001b[0;32m---> 17\u001b[0;31m \u001b[0mdetA3\u001b[0m \u001b[0;34m=\u001b[0m \u001b[0;32mlambda\u001b[0m \u001b[0mA\u001b[0m\u001b[0;34m:\u001b[0m  \u001b[0mnp\u001b[0m\u001b[0;34m.\u001b[0m\u001b[0msum\u001b[0m\u001b[0;34m(\u001b[0m\u001b[0;34m(\u001b[0m\u001b[0mcross\u001b[0m\u001b[0;34m(\u001b[0m\u001b[0mA\u001b[0m\u001b[0;34m[\u001b[0m\u001b[0;36m1\u001b[0m\u001b[0;34m]\u001b[0m\u001b[0;34m,\u001b[0m\u001b[0mA\u001b[0m\u001b[0;34m[\u001b[0m\u001b[0;36m2\u001b[0m\u001b[0;34m]\u001b[0m\u001b[0;34m)\u001b[0m \u001b[0;34m*\u001b[0m \u001b[0mA\u001b[0m\u001b[0;34m[\u001b[0m\u001b[0;36m0\u001b[0m\u001b[0;34m]\u001b[0m\u001b[0;34m)\u001b[0m \u001b[0;34m*\u001b[0m \u001b[0mcofactors\u001b[0m\u001b[0;34m(\u001b[0m\u001b[0mA\u001b[0m\u001b[0;34m)\u001b[0m\u001b[0;34m)\u001b[0m\u001b[0;34m\u001b[0m\u001b[0;34m\u001b[0m\u001b[0m\n\u001b[0m\u001b[1;32m     18\u001b[0m \u001b[0;34m\u001b[0m\u001b[0m\n\u001b[1;32m     19\u001b[0m \u001b[0;31m#Transpose: takes matrix of shape m x n and rewrites with columns in rows with shape n x m\u001b[0m\u001b[0;34m\u001b[0m\u001b[0;34m\u001b[0m\u001b[0;34m\u001b[0m\u001b[0m\n",
      "\u001b[0;32m<ipython-input-12-b6f4add482e7>\u001b[0m in \u001b[0;36m<lambda>\u001b[0;34m(v, w)\u001b[0m\n\u001b[1;32m     54\u001b[0m \u001b[0;31m# or [ detA( without col 1), - detA( w/o col 2), detA( w/o col 3) ]\u001b[0m\u001b[0;34m\u001b[0m\u001b[0;34m\u001b[0m\u001b[0;34m\u001b[0m\u001b[0m\n\u001b[1;32m     55\u001b[0m cross = lambda v,w:    np.array(\n\u001b[0;32m---> 56\u001b[0;31m                         [detA2(np.stack(( Avw(v,w)[::,1], Avw(v,w)[::,2]),axis = 1)),\n\u001b[0m\u001b[1;32m     57\u001b[0m                         \u001b[0mdetA2\u001b[0m\u001b[0;34m(\u001b[0m\u001b[0mnp\u001b[0m\u001b[0;34m.\u001b[0m\u001b[0mstack\u001b[0m\u001b[0;34m(\u001b[0m\u001b[0;34m(\u001b[0m \u001b[0mAvw\u001b[0m\u001b[0;34m(\u001b[0m\u001b[0mv\u001b[0m\u001b[0;34m,\u001b[0m\u001b[0mw\u001b[0m\u001b[0;34m)\u001b[0m\u001b[0;34m[\u001b[0m\u001b[0;34m:\u001b[0m\u001b[0;34m:\u001b[0m\u001b[0;34m,\u001b[0m\u001b[0;36m0\u001b[0m\u001b[0;34m]\u001b[0m\u001b[0;34m,\u001b[0m \u001b[0mAvw\u001b[0m\u001b[0;34m(\u001b[0m\u001b[0mv\u001b[0m\u001b[0;34m,\u001b[0m\u001b[0mw\u001b[0m\u001b[0;34m)\u001b[0m\u001b[0;34m[\u001b[0m\u001b[0;34m:\u001b[0m\u001b[0;34m:\u001b[0m\u001b[0;34m,\u001b[0m\u001b[0;36m2\u001b[0m\u001b[0;34m]\u001b[0m\u001b[0;34m)\u001b[0m\u001b[0;34m,\u001b[0m\u001b[0maxis\u001b[0m \u001b[0;34m=\u001b[0m \u001b[0;36m1\u001b[0m\u001b[0;34m)\u001b[0m\u001b[0;34m)\u001b[0m\u001b[0;34m,\u001b[0m\u001b[0;34m\u001b[0m\u001b[0;34m\u001b[0m\u001b[0m\n\u001b[1;32m     58\u001b[0m                         \u001b[0mdetA2\u001b[0m\u001b[0;34m(\u001b[0m\u001b[0mnp\u001b[0m\u001b[0;34m.\u001b[0m\u001b[0mstack\u001b[0m\u001b[0;34m(\u001b[0m\u001b[0;34m(\u001b[0m \u001b[0mAvw\u001b[0m\u001b[0;34m(\u001b[0m\u001b[0mv\u001b[0m\u001b[0;34m,\u001b[0m\u001b[0mw\u001b[0m\u001b[0;34m)\u001b[0m\u001b[0;34m[\u001b[0m\u001b[0;34m:\u001b[0m\u001b[0;34m:\u001b[0m\u001b[0;34m,\u001b[0m\u001b[0;36m0\u001b[0m\u001b[0;34m]\u001b[0m\u001b[0;34m,\u001b[0m \u001b[0mAvw\u001b[0m\u001b[0;34m(\u001b[0m\u001b[0mv\u001b[0m\u001b[0;34m,\u001b[0m\u001b[0mw\u001b[0m\u001b[0;34m)\u001b[0m\u001b[0;34m[\u001b[0m\u001b[0;34m:\u001b[0m\u001b[0;34m:\u001b[0m\u001b[0;34m,\u001b[0m\u001b[0;36m1\u001b[0m\u001b[0;34m]\u001b[0m\u001b[0;34m)\u001b[0m\u001b[0;34m,\u001b[0m\u001b[0maxis\u001b[0m \u001b[0;34m=\u001b[0m \u001b[0;36m1\u001b[0m\u001b[0;34m)\u001b[0m\u001b[0;34m)\u001b[0m\u001b[0;34m\u001b[0m\u001b[0;34m\u001b[0m\u001b[0m\n",
      "\u001b[0;31mIndexError\u001b[0m: too many indices for array: array is 1-dimensional, but 2 were indexed"
     ]
    }
   ],
   "source": [
    "#A = np.array([[1,2],[3,2]])\n",
    "\n",
    "\n",
    "#EigenMatrix(A)[0],sym.Poly(AλI(A)[0],a),sym.Poly(EigenMatrix(A)[0],a), EigenValues(A)\n",
    "#EigenValues(A),EigenPolys(A),charPolyR2(A).coeffs()\n",
    "\n",
    "#sym.linsolve((EigenPolys(A)[0], (0,0) ),(a,b))#, #EigenPolys(A)[0]\n",
    "\n",
    "#[ [sym.solveset(j) for j in i]  for i in EigenPolys(A)]\n",
    "\n",
    "A #sym.linear_eq_to_matrix(EigenPolys(A)[0],[a,b])\n",
    "#sym.linsolve((EigenMatrix(A)),[a,b])#,EigenPolys(A)[0]\n",
    "#print(f'{EigenValues(A)}\\n,')\n",
    "#print(f'{cpR2(A)}\\n, {AλI(A)}')\n",
    "#EigenMatrix(A)\n",
    "#EigenPolys(A)#AλI(A)#cpR2(A)\n",
    "#detA2(A),tr(A),\n",
    "#A[0],\n",
    "detA3(A),type(A)"
   ]
  },
  {
   "cell_type": "code",
   "execution_count": null,
   "metadata": {},
   "outputs": [
    {
     "data": {
      "text/plain": [
       "array([[1 - λ, 2],\n",
       "       [3, 2 - λ]], dtype=object)"
      ]
     },
     "execution_count": 6,
     "metadata": {},
     "output_type": "execute_result"
    }
   ],
   "source": [
    "AλI(A)#AλI(A)*arr([a,b])"
   ]
  },
  {
   "cell_type": "code",
   "execution_count": null,
   "metadata": {},
   "outputs": [
    {
     "data": {
      "text/plain": [
       "<function sympy.solvers.solveset.linsolve(system, *symbols)>"
      ]
     },
     "execution_count": 7,
     "metadata": {},
     "output_type": "execute_result"
    }
   ],
   "source": [
    "sym.solvers.linsolve"
   ]
  },
  {
   "cell_type": "code",
   "execution_count": null,
   "metadata": {},
   "outputs": [
    {
     "data": {
      "text/latex": [
       "$\\displaystyle \\left\\{\\left( -1, \\  2, \\  0\\right)\\right\\}$"
      ],
      "text/plain": [
       "FiniteSet((-1, 2, 0))"
      ]
     },
     "execution_count": 8,
     "metadata": {},
     "output_type": "execute_result"
    }
   ],
   "source": [
    "A = arr([[1, 2, 3], [4, 5, 6], [7, 8, 10]])\n",
    "b = arr([3, 6, 9])\n",
    "sym.linsolve((sym.Matrix(A),sym.Matrix(b)), [x, y, z])\n",
    "\n"
   ]
  },
  {
   "cell_type": "code",
   "execution_count": null,
   "metadata": {},
   "outputs": [
    {
     "data": {
      "text/plain": [
       "array([-3/2 + sqrt(5)/2, -3/2 - sqrt(5)/2], dtype=object)"
      ]
     },
     "execution_count": 9,
     "metadata": {},
     "output_type": "execute_result"
    }
   ],
   "source": [
    "b=charPolyR2(np.array([[-2,1],[1,-1]]))\n",
    "b,b.coeffs(), type(b), \n",
    "negB(b.coeffs())"
   ]
  },
  {
   "cell_type": "code",
   "execution_count": null,
   "metadata": {},
   "outputs": [
    {
     "data": {
      "text/plain": [
       "(2*x*z + y**2, 2*x*z + y**2)"
      ]
     },
     "execution_count": 10,
     "metadata": {},
     "output_type": "execute_result"
    }
   ],
   "source": [
    "v1 = np.array([x,y,z])\n",
    "v2 = np.array([z,y,x])\n",
    "dotv(v1,v2), np.dot(v1,v2)\n",
    "\n",
    "A,B = np.array([[1,2,3],[4,5,6],[7,8,9]]), np.array([[1,0,0],[1,-1,0],[-1,-1,1]])\n",
    "#A,B = Amat(),Amat()\n",
    "A,B\n",
    "dotv(v1,v2), np.dot(v1,v2)"
   ]
  },
  {
   "cell_type": "code",
   "execution_count": null,
   "metadata": {},
   "outputs": [],
   "source": []
  },
  {
   "cell_type": "code",
   "execution_count": null,
   "metadata": {},
   "outputs": [
    {
     "data": {
      "text/plain": [
       "True"
      ]
     },
     "execution_count": 11,
     "metadata": {},
     "output_type": "execute_result"
    }
   ],
   "source": [
    "Plhs =  x1 + 2*x2 - x3 \n",
    "Peqls = 0\n",
    "P = Plhs-Peqls\n",
    "l = [1+t,1+t,1]\n",
    "subdict =  tuple(zip(P.as_terms()[1], l))\n",
    "t_val = sym.solve(P.subs(subdict))\n",
    "\n",
    "P_perp_v = [P.as_coefficients_dict()[i] for i in P.as_terms()[1]]\n",
    "P_inter_l = [ i.subs(t,t_val[0]) if type(i) == sym.Add else i for i in l]\n",
    "#subdict\n",
    "#type(P)\n",
    "#subdict\n",
    "subdict,sym.solve(P.subs(subdict)),t_val, P_perp_v#P.as_coefficients_dict()#[1]#['x2']#.values()\n",
    "#P.subs()\n",
    "#P.subs(-sym.solve(P)[0])\n",
    "#sym.Poly\n",
    "check_Perp = lambda v,w : True if np.dot(v,w) == 0 else False\n",
    "\n",
    "check_Perp(P_inter_l,[1,2,-1])\n",
    "\n",
    "#type([1,2,1])\n"
   ]
  },
  {
   "cell_type": "code",
   "execution_count": null,
   "metadata": {},
   "outputs": [
    {
     "data": {
      "text/plain": [
       "(Plane(Point3D(1, 2, 3), (-9, 6, 3)), -9*x + 6*y + 3*z - 12)"
      ]
     },
     "execution_count": 12,
     "metadata": {},
     "output_type": "execute_result"
    }
   ],
   "source": [
    "p1 = sym.Plane(sym.Point3D(1, 2, 3), sym.Point3D(4, 5, 6), sym.Point3D(0, 2, 0))\n",
    "p2 = p1.equation()\n",
    "p1,p2"
   ]
  },
  {
   "cell_type": "code",
   "execution_count": null,
   "metadata": {},
   "outputs": [],
   "source": [
    "A= arr "
   ]
  },
  {
   "cell_type": "code",
   "execution_count": 45,
   "metadata": {},
   "outputs": [],
   "source": [
    "#guassA = lambda:\n",
    "def swapR(A,i,j):\n",
    "    A[[i,j]] = A[[j,i]]\n",
    "    return A\n",
    "\n",
    "def timesR(A,i,k):\n",
    "    A[i] = A[i] * k\n",
    "    return A\n",
    "\n",
    "def subR(Ri,R1):\n",
    "    #print(Ri ,R1,  Ri[0]/R1[0], R1 * Ri[0]/R1[0])\n",
    "    return Ri - (R1 * Ri[0]/R1[0])\n",
    "\n",
    "indxA = lambda A : np.array([[[i[0]+1,j+1,k] for j,k in enumerate(A[i[0]])] for i in enumerate(A)])\n",
    "\n",
    "\n",
    "swapMax = lambda A: swapR(A, np.argmax(A[::,0]), 0)\n",
    "\n",
    "#cancel = lambda A: np.apply_along_axis(addR, 1, A[1:], A[0])\n",
    "\n",
    "def cancel(A):\n",
    "    for i ,j in enumerate(A):\n",
    "        print(A[i][0])\n",
    "        if A[i][0] != 0:\n",
    "            np.apply_along_axis(subR, 1, A[1:], A[0])\n",
    "            print(A)\n",
    "            return A\n",
    "#swapR(A,1,2)\n",
    "#timesR(A,0,3)\n",
    "\n",
    "#[1:,]"
   ]
  },
  {
   "cell_type": "code",
   "execution_count": 49,
   "metadata": {},
   "outputs": [
    {
     "data": {
      "text/latex": [
       "$\\displaystyle \\left[\\begin{matrix}1 & 2 & 3\\\\3 & 6 & 2\\\\2 & 2 & 1\\end{matrix}\\right]$"
      ],
      "text/plain": [
       "⎡1  2  3⎤\n",
       "⎢       ⎥\n",
       "⎢3  6  2⎥\n",
       "⎢       ⎥\n",
       "⎣2  2  1⎦"
      ]
     },
     "execution_count": 49,
     "metadata": {},
     "output_type": "execute_result"
    }
   ],
   "source": [
    "A#swapR(A,0,1)\n",
    "\n"
   ]
  },
  {
   "cell_type": "code",
   "execution_count": null,
   "metadata": {},
   "outputs": [
    {
     "data": {
      "text/plain": [
       "(array([[0, 1, 0],\n",
       "        [0, 0, 1],\n",
       "        [1, 0, 0]]),\n",
       " array([[0, 0, 1],\n",
       "        [1, 0, 0],\n",
       "        [0, 1, 0]]),\n",
       " array([[1, 0, 0],\n",
       "        [0, 0, 1],\n",
       "        [0, 1, 0]]),\n",
       " array([[1, 0, 0],\n",
       "        [0, 0, 1],\n",
       "        [0, 1, 0]]))"
      ]
     },
     "execution_count": 15,
     "metadata": {},
     "output_type": "execute_result"
    }
   ],
   "source": [
    "P23 = np.array([[1,0,0],[0,0,1],[0,1,0]])\n",
    "P12 = np.array([[0,1,0],[0,0,1],[1,0,0]])\n",
    "\n",
    "A,indxA(A)[1][2][-1]\n",
    "\n",
    "A,dotA(P23.T,A), dotA(P23,A)\n",
    "P12,transA(P12), P23, transA(P23)"
   ]
  },
  {
   "cell_type": "code",
   "execution_count": null,
   "metadata": {},
   "outputs": [
    {
     "ename": "ValueError",
     "evalue": "Matrix([[1, 2, 3], [3, 6, 2], [2, 2, 1]]) is not an integer",
     "output_type": "error",
     "traceback": [
      "\u001b[0;31m---------------------------------------------------------------------------\u001b[0m",
      "\u001b[0;31mTypeError\u001b[0m                                 Traceback (most recent call last)",
      "\u001b[0;32m~/anaconda3/lib/python3.8/site-packages/sympy/core/compatibility.py\u001b[0m in \u001b[0;36mas_int\u001b[0;34m(n, strict)\u001b[0m\n\u001b[1;32m    300\u001b[0m                 \u001b[0;32mraise\u001b[0m \u001b[0mTypeError\u001b[0m\u001b[0;34m\u001b[0m\u001b[0;34m\u001b[0m\u001b[0m\n\u001b[0;32m--> 301\u001b[0;31m             \u001b[0;32mreturn\u001b[0m \u001b[0moperator\u001b[0m\u001b[0;34m.\u001b[0m\u001b[0mindex\u001b[0m\u001b[0;34m(\u001b[0m\u001b[0mn\u001b[0m\u001b[0;34m)\u001b[0m\u001b[0;34m\u001b[0m\u001b[0;34m\u001b[0m\u001b[0m\n\u001b[0m\u001b[1;32m    302\u001b[0m         \u001b[0;32mexcept\u001b[0m \u001b[0mTypeError\u001b[0m\u001b[0;34m:\u001b[0m\u001b[0;34m\u001b[0m\u001b[0;34m\u001b[0m\u001b[0m\n",
      "\u001b[0;31mTypeError\u001b[0m: 'MutableDenseMatrix' object cannot be interpreted as an integer",
      "\nDuring handling of the above exception, another exception occurred:\n",
      "\u001b[0;31mValueError\u001b[0m                                Traceback (most recent call last)",
      "\u001b[0;32m<ipython-input-100-2a68cbba28c5>\u001b[0m in \u001b[0;36m<module>\u001b[0;34m\u001b[0m\n\u001b[1;32m      3\u001b[0m \u001b[0mperm\u001b[0m \u001b[0;34m=\u001b[0m \u001b[0;32mlambda\u001b[0m \u001b[0mI\u001b[0m\u001b[0;34m,\u001b[0m \u001b[0mi\u001b[0m\u001b[0;34m,\u001b[0m \u001b[0mj\u001b[0m\u001b[0;34m:\u001b[0m \u001b[0mswapR\u001b[0m\u001b[0;34m(\u001b[0m\u001b[0mI\u001b[0m\u001b[0;34m,\u001b[0m\u001b[0mi\u001b[0m\u001b[0;34m,\u001b[0m\u001b[0mj\u001b[0m\u001b[0;34m)\u001b[0m\u001b[0;34m\u001b[0m\u001b[0;34m\u001b[0m\u001b[0m\n\u001b[1;32m      4\u001b[0m \u001b[0;31m#s  = np.zeros_like(A)[1][2]+1\u001b[0m\u001b[0;34m\u001b[0m\u001b[0;34m\u001b[0m\u001b[0;34m\u001b[0m\u001b[0m\n\u001b[0;32m----> 5\u001b[0;31m \u001b[0mI\u001b[0m\u001b[0;34m(\u001b[0m\u001b[0mA\u001b[0m\u001b[0;34m)\u001b[0m\u001b[0;34m\u001b[0m\u001b[0;34m\u001b[0m\u001b[0m\n\u001b[0m\u001b[1;32m      6\u001b[0m \u001b[0;34m\u001b[0m\u001b[0m\n\u001b[1;32m      7\u001b[0m \u001b[0;32mdef\u001b[0m \u001b[0mE\u001b[0m \u001b[0;34m(\u001b[0m\u001b[0mA\u001b[0m\u001b[0;34m,\u001b[0m \u001b[0mi\u001b[0m\u001b[0;34m,\u001b[0m\u001b[0mj\u001b[0m\u001b[0;34m)\u001b[0m\u001b[0;34m:\u001b[0m\u001b[0;34m\u001b[0m\u001b[0;34m\u001b[0m\u001b[0m\n",
      "\u001b[0;32m<ipython-input-39-bb89353f5ff8>\u001b[0m in \u001b[0;36m<lambda>\u001b[0;34m(n)\u001b[0m\n\u001b[1;32m     48\u001b[0m \u001b[0;31m#I = lambda A: [[j for j in  i ]for i in  range(len(A))]\u001b[0m\u001b[0;34m\u001b[0m\u001b[0;34m\u001b[0m\u001b[0;34m\u001b[0m\u001b[0m\n\u001b[1;32m     49\u001b[0m \u001b[0;31m#I = lambda A: np.array([[ 1 if i[0] == j[0] else 0 for j in enumerate(A[i[0]])] for i in enumerate(A)])\u001b[0m\u001b[0;34m\u001b[0m\u001b[0;34m\u001b[0m\u001b[0;34m\u001b[0m\u001b[0m\n\u001b[0;32m---> 50\u001b[0;31m \u001b[0mI\u001b[0m \u001b[0;34m=\u001b[0m \u001b[0;32mlambda\u001b[0m \u001b[0mn\u001b[0m\u001b[0;34m:\u001b[0m \u001b[0msym\u001b[0m\u001b[0;34m.\u001b[0m\u001b[0mMatrix\u001b[0m\u001b[0;34m(\u001b[0m\u001b[0mn\u001b[0m\u001b[0;34m,\u001b[0m\u001b[0mn\u001b[0m\u001b[0;34m,\u001b[0m\u001b[0;34m(\u001b[0m \u001b[0;32mlambda\u001b[0m \u001b[0mi\u001b[0m\u001b[0;34m,\u001b[0m\u001b[0mj\u001b[0m\u001b[0;34m:\u001b[0m \u001b[0;36m1\u001b[0m \u001b[0;32mif\u001b[0m \u001b[0mi\u001b[0m \u001b[0;34m==\u001b[0m \u001b[0mj\u001b[0m \u001b[0;32melse\u001b[0m \u001b[0;36m0\u001b[0m\u001b[0;34m)\u001b[0m\u001b[0;34m)\u001b[0m\u001b[0;34m\u001b[0m\u001b[0;34m\u001b[0m\u001b[0m\n\u001b[0m\u001b[1;32m     51\u001b[0m \u001b[0;31m#Cross product for 2 vectors w/ len 3\u001b[0m\u001b[0;34m\u001b[0m\u001b[0;34m\u001b[0m\u001b[0;34m\u001b[0m\u001b[0m\n\u001b[1;32m     52\u001b[0m \u001b[0;31m# u= [a, b, c],\u001b[0m\u001b[0;34m\u001b[0m\u001b[0;34m\u001b[0m\u001b[0;34m\u001b[0m\u001b[0m\n",
      "\u001b[0;32m~/anaconda3/lib/python3.8/site-packages/sympy/matrices/dense.py\u001b[0m in \u001b[0;36m__new__\u001b[0;34m(cls, *args, **kwargs)\u001b[0m\n\u001b[1;32m    297\u001b[0m \u001b[0;34m\u001b[0m\u001b[0m\n\u001b[1;32m    298\u001b[0m     \u001b[0;32mdef\u001b[0m \u001b[0m__new__\u001b[0m\u001b[0;34m(\u001b[0m\u001b[0mcls\u001b[0m\u001b[0;34m,\u001b[0m \u001b[0;34m*\u001b[0m\u001b[0margs\u001b[0m\u001b[0;34m,\u001b[0m \u001b[0;34m**\u001b[0m\u001b[0mkwargs\u001b[0m\u001b[0;34m)\u001b[0m\u001b[0;34m:\u001b[0m\u001b[0;34m\u001b[0m\u001b[0;34m\u001b[0m\u001b[0m\n\u001b[0;32m--> 299\u001b[0;31m         \u001b[0;32mreturn\u001b[0m \u001b[0mcls\u001b[0m\u001b[0;34m.\u001b[0m\u001b[0m_new\u001b[0m\u001b[0;34m(\u001b[0m\u001b[0;34m*\u001b[0m\u001b[0margs\u001b[0m\u001b[0;34m,\u001b[0m \u001b[0;34m**\u001b[0m\u001b[0mkwargs\u001b[0m\u001b[0;34m)\u001b[0m\u001b[0;34m\u001b[0m\u001b[0;34m\u001b[0m\u001b[0m\n\u001b[0m\u001b[1;32m    300\u001b[0m \u001b[0;34m\u001b[0m\u001b[0m\n\u001b[1;32m    301\u001b[0m     \u001b[0;34m@\u001b[0m\u001b[0mclassmethod\u001b[0m\u001b[0;34m\u001b[0m\u001b[0;34m\u001b[0m\u001b[0m\n",
      "\u001b[0;32m~/anaconda3/lib/python3.8/site-packages/sympy/matrices/dense.py\u001b[0m in \u001b[0;36m_new\u001b[0;34m(cls, copy, *args, **kwargs)\u001b[0m\n\u001b[1;32m    308\u001b[0m             \u001b[0mrows\u001b[0m\u001b[0;34m,\u001b[0m \u001b[0mcols\u001b[0m\u001b[0;34m,\u001b[0m \u001b[0mflat_list\u001b[0m \u001b[0;34m=\u001b[0m \u001b[0margs\u001b[0m\u001b[0;34m\u001b[0m\u001b[0;34m\u001b[0m\u001b[0m\n\u001b[1;32m    309\u001b[0m         \u001b[0;32melse\u001b[0m\u001b[0;34m:\u001b[0m\u001b[0;34m\u001b[0m\u001b[0;34m\u001b[0m\u001b[0m\n\u001b[0;32m--> 310\u001b[0;31m             \u001b[0mrows\u001b[0m\u001b[0;34m,\u001b[0m \u001b[0mcols\u001b[0m\u001b[0;34m,\u001b[0m \u001b[0mflat_list\u001b[0m \u001b[0;34m=\u001b[0m \u001b[0mcls\u001b[0m\u001b[0;34m.\u001b[0m\u001b[0m_handle_creation_inputs\u001b[0m\u001b[0;34m(\u001b[0m\u001b[0;34m*\u001b[0m\u001b[0margs\u001b[0m\u001b[0;34m,\u001b[0m \u001b[0;34m**\u001b[0m\u001b[0mkwargs\u001b[0m\u001b[0;34m)\u001b[0m\u001b[0;34m\u001b[0m\u001b[0;34m\u001b[0m\u001b[0m\n\u001b[0m\u001b[1;32m    311\u001b[0m             \u001b[0mflat_list\u001b[0m \u001b[0;34m=\u001b[0m \u001b[0mlist\u001b[0m\u001b[0;34m(\u001b[0m\u001b[0mflat_list\u001b[0m\u001b[0;34m)\u001b[0m \u001b[0;31m# create a shallow copy\u001b[0m\u001b[0;34m\u001b[0m\u001b[0;34m\u001b[0m\u001b[0m\n\u001b[1;32m    312\u001b[0m         \u001b[0mself\u001b[0m \u001b[0;34m=\u001b[0m \u001b[0mobject\u001b[0m\u001b[0;34m.\u001b[0m\u001b[0m__new__\u001b[0m\u001b[0;34m(\u001b[0m\u001b[0mcls\u001b[0m\u001b[0;34m)\u001b[0m\u001b[0;34m\u001b[0m\u001b[0;34m\u001b[0m\u001b[0m\n",
      "\u001b[0;32m~/anaconda3/lib/python3.8/site-packages/sympy/matrices/matrices.py\u001b[0m in \u001b[0;36m_handle_creation_inputs\u001b[0;34m(cls, *args, **kwargs)\u001b[0m\n\u001b[1;32m   1087\u001b[0m \u001b[0;34m\u001b[0m\u001b[0m\n\u001b[1;32m   1088\u001b[0m         \u001b[0;32melif\u001b[0m \u001b[0mlen\u001b[0m\u001b[0;34m(\u001b[0m\u001b[0margs\u001b[0m\u001b[0;34m)\u001b[0m \u001b[0;34m==\u001b[0m \u001b[0;36m3\u001b[0m\u001b[0;34m:\u001b[0m\u001b[0;34m\u001b[0m\u001b[0;34m\u001b[0m\u001b[0m\n\u001b[0;32m-> 1089\u001b[0;31m             \u001b[0mrows\u001b[0m \u001b[0;34m=\u001b[0m \u001b[0mas_int\u001b[0m\u001b[0;34m(\u001b[0m\u001b[0margs\u001b[0m\u001b[0;34m[\u001b[0m\u001b[0;36m0\u001b[0m\u001b[0;34m]\u001b[0m\u001b[0;34m)\u001b[0m\u001b[0;34m\u001b[0m\u001b[0;34m\u001b[0m\u001b[0m\n\u001b[0m\u001b[1;32m   1090\u001b[0m             \u001b[0mcols\u001b[0m \u001b[0;34m=\u001b[0m \u001b[0mas_int\u001b[0m\u001b[0;34m(\u001b[0m\u001b[0margs\u001b[0m\u001b[0;34m[\u001b[0m\u001b[0;36m1\u001b[0m\u001b[0;34m]\u001b[0m\u001b[0;34m)\u001b[0m\u001b[0;34m\u001b[0m\u001b[0;34m\u001b[0m\u001b[0m\n\u001b[1;32m   1091\u001b[0m \u001b[0;34m\u001b[0m\u001b[0m\n",
      "\u001b[0;32m~/anaconda3/lib/python3.8/site-packages/sympy/core/compatibility.py\u001b[0m in \u001b[0;36mas_int\u001b[0;34m(n, strict)\u001b[0m\n\u001b[1;32m    301\u001b[0m             \u001b[0;32mreturn\u001b[0m \u001b[0moperator\u001b[0m\u001b[0;34m.\u001b[0m\u001b[0mindex\u001b[0m\u001b[0;34m(\u001b[0m\u001b[0mn\u001b[0m\u001b[0;34m)\u001b[0m\u001b[0;34m\u001b[0m\u001b[0;34m\u001b[0m\u001b[0m\n\u001b[1;32m    302\u001b[0m         \u001b[0;32mexcept\u001b[0m \u001b[0mTypeError\u001b[0m\u001b[0;34m:\u001b[0m\u001b[0;34m\u001b[0m\u001b[0;34m\u001b[0m\u001b[0m\n\u001b[0;32m--> 303\u001b[0;31m             \u001b[0;32mraise\u001b[0m \u001b[0mValueError\u001b[0m\u001b[0;34m(\u001b[0m\u001b[0;34m'%s is not an integer'\u001b[0m \u001b[0;34m%\u001b[0m \u001b[0;34m(\u001b[0m\u001b[0mn\u001b[0m\u001b[0;34m,\u001b[0m\u001b[0;34m)\u001b[0m\u001b[0;34m)\u001b[0m\u001b[0;34m\u001b[0m\u001b[0;34m\u001b[0m\u001b[0m\n\u001b[0m\u001b[1;32m    304\u001b[0m     \u001b[0;32melse\u001b[0m\u001b[0;34m:\u001b[0m\u001b[0;34m\u001b[0m\u001b[0;34m\u001b[0m\u001b[0m\n\u001b[1;32m    305\u001b[0m         \u001b[0;32mtry\u001b[0m\u001b[0;34m:\u001b[0m\u001b[0;34m\u001b[0m\u001b[0;34m\u001b[0m\u001b[0m\n",
      "\u001b[0;31mValueError\u001b[0m: Matrix([[1, 2, 3], [3, 6, 2], [2, 2, 1]]) is not an integer"
     ]
    }
   ],
   "source": [
    "\n",
    "#def perm(A, i,j):\n",
    "#    Pij = np.zeros_like(A)\n",
    "perm = lambda I, i, j: swapR(I,i,j)\n",
    "#s  = np.zeros_like(A)[1][2]+1\n",
    "I(A)\n",
    "\n",
    "def E (A, i,j):\n",
    "     E = I(A)\n",
    "     print(A[i][0], A[j][0])\n",
    "     E[i][j] =  (-A[i] / A[j])[j]\n",
    "     print(f'E{i+1}{j+1} = {E}')\n",
    "     return np.array(E)\n",
    "\n",
    "def elim(A):\n",
    "     #np.apply_along_axis()\n",
    "     U = A\n",
    "     #[[(dotA(U ,E(U,i,j)))for j in enumerate(A[i[0]])] for i in enumerate(A)]\n",
    "\n",
    "          \n",
    "     return [[ (dotA(U ,E(U,i[0],j[0]))) for i in enumerate(A)]]\n",
    "#lst  =[1,2,3]\n",
    "'''i if i[2] !=0 else for i in indxA(A):\n",
    "     print(i)'''\n",
    "#col1 = \n",
    "#for i in \n",
    "#e23 = E(A,2,1)\n",
    "#A,A[1:-1, 1:-1]#, E(A,2,1),   dotA( E(A,2,1) , A), dotA(dotA(e23, A), dotA( E( dotA( E(A,2,1), A), 3, 1),A))\n",
    "#elim(A)\n",
    "#elim = np.array(lambda A: map(E(),A[1:]))\n",
    "\n",
    "#elim(A)"
   ]
  },
  {
   "cell_type": "code",
   "execution_count": null,
   "metadata": {},
   "outputs": [],
   "source": [
    "def E2 (A ):#, piv):\n",
    "     E = I(A)\n",
    "     print(A.shape[0])\n",
    "     '''for j in range(A.shape(0)):\n",
    "\n",
    "          print(A[i][0], A[j][0])\n",
    "          E[i][j] =  (-A[piv] / A[j])\n",
    "          print(f'E{i+1}{j+1} = {E}')\n",
    "      '''    \n",
    "     return np.array(E)\n",
    "\n",
    "\n",
    "#list(map(E2,indxA(A),))"
   ]
  },
  {
   "cell_type": "markdown",
   "metadata": {},
   "source": []
  },
  {
   "cell_type": "markdown",
   "metadata": {},
   "source": [
    "function ToRowEchelonForm(Matrix M) is\n",
    "    nr := number of rows in M\n",
    "    nc := number of columns in M\n",
    "    \n",
    "    for 0 ≤ r < nr do\n",
    "        allZeros := true\n",
    "        for 0 ≤ c < nc do\n",
    "            if M[r, c] != 0 then\n",
    "                allZeros := false\n",
    "                exit for\n",
    "            end if\n",
    "        end for\n",
    "        if allZeros = true then\n",
    "            In M, swap row r with row nr\n",
    "            nr := nr - 1\n",
    "        end if\n",
    "    end for\n",
    "    \n",
    "    p := 0\n",
    "    while p < nr and p < nc do\n",
    "        label nextPivot:\n",
    "            r := 1\n",
    "            while M[p, p] = 0 do \n",
    "                if (p + r) <= nr then\n",
    "                    p := p + 1\n",
    "                    goto nextPivot\n",
    "                end if\n",
    "                In M, swap row p with row (p + r)\n",
    "                r := r + 1\n",
    "            end while\n",
    "            for 1 ≤ r < (nr - p) do \n",
    "                if M[p + r, p] != 0 then\n",
    "                    x := -M[p + r, p] / M[p, p]\n",
    "                    for p ≤ c < nc do\n",
    "                        M[p + r, c] := M[p , c] * x + M[p + r, c]\n",
    "                    end for\n",
    "                end if\n",
    "            end for\n",
    "            p := p + 1\n",
    "    end while\n",
    "end function\n"
   ]
  },
  {
   "cell_type": "code",
   "execution_count": null,
   "metadata": {},
   "outputs": [
    {
     "data": {
      "text/plain": [
       "(array([[0, 0, 0],\n",
       "        [0, 2, 3],\n",
       "        [0, 0, 0],\n",
       "        [5, 6, 4],\n",
       "        [0, 0, 2]]),\n",
       " 5)"
      ]
     },
     "execution_count": 18,
     "metadata": {},
     "output_type": "execute_result"
    }
   ],
   "source": [
    "A=np.array([[0,0,0],[0,2,3],[0,0,0],[5,6,4],[0,0,2]])\n",
    "A,len(A)"
   ]
  },
  {
   "cell_type": "code",
   "execution_count": null,
   "metadata": {},
   "outputs": [
    {
     "data": {
      "text/plain": [
       "(array([[0, 0, 0],\n",
       "        [0, 2, 3],\n",
       "        [0, 0, 0],\n",
       "        [5, 6, 4],\n",
       "        [0, 0, 2]]),\n",
       " array([[0, 0, 0],\n",
       "        [5, 6, 4],\n",
       "        [0, 0, 2]]),\n",
       " 17)"
      ]
     },
     "execution_count": 19,
     "metadata": {},
     "output_type": "execute_result"
    }
   ],
   "source": [
    "[i for i in range(3,5)]\n",
    "A,np.array(A[2:5]),sum(sum(np.array(A[2:5])))"
   ]
  },
  {
   "cell_type": "code",
   "execution_count": null,
   "metadata": {},
   "outputs": [
    {
     "data": {
      "text/plain": [
       "(17, array([0, 0, 2]))"
      ]
     },
     "execution_count": 20,
     "metadata": {},
     "output_type": "execute_result"
    }
   ],
   "source": [
    "\n",
    "sum([sum(A[i]) for i in range(3,5)]),A[4]"
   ]
  },
  {
   "cell_type": "code",
   "execution_count": null,
   "metadata": {},
   "outputs": [
    {
     "ename": "IndentationError",
     "evalue": "expected an indented block (<ipython-input-21-c908318a6e73>, line 41)",
     "output_type": "error",
     "traceback": [
      "\u001b[0;36m  File \u001b[0;32m\"<ipython-input-21-c908318a6e73>\"\u001b[0;36m, line \u001b[0;32m41\u001b[0m\n\u001b[0;31m    piv(A,0),pivlist#,swap_r0(A)\u001b[0m\n\u001b[0m                                ^\u001b[0m\n\u001b[0;31mIndentationError\u001b[0m\u001b[0;31m:\u001b[0m expected an indented block\n"
     ]
    }
   ],
   "source": [
    "print(A)\n",
    "def swap_r0(A):\n",
    "    nr = len(A)\n",
    "    nswap=0\n",
    "    \n",
    "    for i in range(nr):\n",
    "        #print(i,nr)\n",
    "        print(A[i])\n",
    "         #nswap = nr-1\n",
    "        \n",
    "        if sum(sum(np.array(A[i:nr]))) == 0:\n",
    "            print(i, nr,'sum0')\n",
    "            return A\n",
    "        \n",
    "        elif sum(A[i]) == 0:#and sum(A[nswap]) != 0:\n",
    "            nswap += 1\n",
    "           \n",
    "            swapR(A,i,-nswap)\n",
    "            \n",
    "            print(i,nswap) \n",
    "pivlist =[]\n",
    "def piv(A,row):\n",
    "    loc = list(enumerate(A[row]))\n",
    "    #print(loc,loc[1][1])\n",
    "    i=0\n",
    "    while i <= len(loc) -1:\n",
    "        if loc[i][1] != 0:\n",
    "            pivlist.append(loc[i] )\n",
    "            return\n",
    "\n",
    "        else:\n",
    "            #print(i) \n",
    "            i +=1\n",
    "\n",
    "def ref(A):\n",
    "    A = swap_r0(A)\n",
    "    \n",
    "    for i in len(A):\n",
    "\n",
    "\n",
    "piv(A,0),pivlist#,swap_r0(A)"
   ]
  },
  {
   "cell_type": "code",
   "execution_count": null,
   "metadata": {},
   "outputs": [
    {
     "data": {
      "text/plain": [
       "(array([[0, 0, 0],\n",
       "        [0, 2, 3],\n",
       "        [0, 0, 0],\n",
       "        [5, 6, 4],\n",
       "        [0, 0, 2]]),\n",
       " 5)"
      ]
     },
     "execution_count": 74,
     "metadata": {},
     "output_type": "execute_result"
    }
   ],
   "source": [
    "A, len(A)"
   ]
  },
  {
   "cell_type": "code",
   "execution_count": null,
   "metadata": {},
   "outputs": [
    {
     "name": "stdout",
     "output_type": "stream",
     "text": [
      "[[1 2 3]\n",
      " [3 6 2]\n",
      " [2 2 1]] 1 0\n"
     ]
    },
    {
     "ename": "NameError",
     "evalue": "name 'E' is not defined",
     "output_type": "error",
     "traceback": [
      "\u001b[0;31m---------------------------------------------------------------------------\u001b[0m",
      "\u001b[0;31mNameError\u001b[0m                                 Traceback (most recent call last)",
      "\u001b[0;32m<ipython-input-99-a84491c37cb8>\u001b[0m in \u001b[0;36m<module>\u001b[0;34m\u001b[0m\n\u001b[1;32m     21\u001b[0m \u001b[0;31m#max(A[::,0])\u001b[0m\u001b[0;34m\u001b[0m\u001b[0;34m\u001b[0m\u001b[0;34m\u001b[0m\u001b[0m\n\u001b[1;32m     22\u001b[0m \u001b[0;31m#swapMax(A)\u001b[0m\u001b[0;34m\u001b[0m\u001b[0;34m\u001b[0m\u001b[0;34m\u001b[0m\u001b[0m\n\u001b[0;32m---> 23\u001b[0;31m \u001b[0mA\u001b[0m\u001b[0;34m,\u001b[0m \u001b[0mref\u001b[0m\u001b[0;34m(\u001b[0m\u001b[0mA\u001b[0m\u001b[0;34m)\u001b[0m\u001b[0;34m\u001b[0m\u001b[0;34m\u001b[0m\u001b[0m\n\u001b[0m",
      "\u001b[0;32m<ipython-input-99-a84491c37cb8>\u001b[0m in \u001b[0;36mref\u001b[0;34m(A)\u001b[0m\n\u001b[1;32m      8\u001b[0m                 \u001b[0;32mwhile\u001b[0m \u001b[0mi\u001b[0m\u001b[0;34m+\u001b[0m\u001b[0;36m1\u001b[0m\u001b[0;34m+\u001b[0m\u001b[0mj\u001b[0m \u001b[0;34m<=\u001b[0m \u001b[0mA\u001b[0m\u001b[0;34m[\u001b[0m\u001b[0mi\u001b[0m\u001b[0;34m:\u001b[0m\u001b[0;34m,\u001b[0m \u001b[0mj\u001b[0m\u001b[0;34m:\u001b[0m\u001b[0;34m]\u001b[0m\u001b[0;34m.\u001b[0m\u001b[0mshape\u001b[0m\u001b[0;34m[\u001b[0m\u001b[0;36m0\u001b[0m\u001b[0;34m]\u001b[0m\u001b[0;34m:\u001b[0m\u001b[0;34m\u001b[0m\u001b[0;34m\u001b[0m\u001b[0m\n\u001b[1;32m      9\u001b[0m                         \u001b[0mprint\u001b[0m\u001b[0;34m(\u001b[0m\u001b[0mA\u001b[0m\u001b[0;34m,\u001b[0m \u001b[0mi\u001b[0m\u001b[0;34m+\u001b[0m\u001b[0;36m1\u001b[0m\u001b[0;34m+\u001b[0m\u001b[0mj\u001b[0m\u001b[0;34m,\u001b[0m \u001b[0mj\u001b[0m\u001b[0;34m)\u001b[0m\u001b[0;34m\u001b[0m\u001b[0;34m\u001b[0m\u001b[0m\n\u001b[0;32m---> 10\u001b[0;31m                         \u001b[0mcomb\u001b[0m \u001b[0;34m=\u001b[0m \u001b[0mdotA\u001b[0m\u001b[0;34m(\u001b[0m\u001b[0mE\u001b[0m\u001b[0;34m(\u001b[0m\u001b[0mA\u001b[0m\u001b[0;34m,\u001b[0m \u001b[0mi\u001b[0m\u001b[0;34m+\u001b[0m\u001b[0;36m1\u001b[0m\u001b[0;34m+\u001b[0m\u001b[0mj\u001b[0m \u001b[0;34m,\u001b[0m\u001b[0mj\u001b[0m\u001b[0;34m)\u001b[0m\u001b[0;34m,\u001b[0m \u001b[0mcomb\u001b[0m\u001b[0;34m)\u001b[0m\u001b[0;34m\u001b[0m\u001b[0;34m\u001b[0m\u001b[0m\n\u001b[0m\u001b[1;32m     11\u001b[0m                         \u001b[0;31m#print(j,i+1+j,comb,A[i:, j:])\u001b[0m\u001b[0;34m\u001b[0m\u001b[0;34m\u001b[0m\u001b[0;34m\u001b[0m\u001b[0m\n\u001b[1;32m     12\u001b[0m                         \u001b[0mi\u001b[0m\u001b[0;34m+=\u001b[0m\u001b[0;36m1\u001b[0m\u001b[0;34m\u001b[0m\u001b[0;34m\u001b[0m\u001b[0m\n",
      "\u001b[0;31mNameError\u001b[0m: name 'E' is not defined"
     ]
    }
   ],
   "source": [
    "def ref(A):\n",
    "        \n",
    "        #comb = I(A)\n",
    "        A = np.array(A)\n",
    "        for j in range(A.shape[1]-1) :\n",
    "                \n",
    "                i=0\n",
    "                while i+1+j <= A[i:, j:].shape[0]:\n",
    "                        print(A, i+1+j, j)\n",
    "                        comb = dotA(E(A, i+1+j ,j), comb)\n",
    "                        #print(j,i+1+j,comb,A[i:, j:])\n",
    "                        i+=1\n",
    "                        \n",
    "                A = dotA(comb, A)\n",
    "                print(A, comb)\n",
    "        #i += 2       \n",
    "#A, A[1:]\n",
    "#map(E(A),A[1:])\n",
    "#cancel(A)\n",
    "#np.argmax(A[::,0])\n",
    "#max(A[::,0])\n",
    "#swapMax(A)\n",
    "A, ref(A)"
   ]
  },
  {
   "cell_type": "code",
   "execution_count": null,
   "metadata": {},
   "outputs": [
    {
     "ename": "ValueError",
     "evalue": "operands could not be broadcast together with shapes (3,) (5,) ",
     "output_type": "error",
     "traceback": [
      "\u001b[0;31m---------------------------------------------------------------------------\u001b[0m",
      "\u001b[0;31mValueError\u001b[0m                                Traceback (most recent call last)",
      "\u001b[0;32m<ipython-input-18-b5b75a2038ec>\u001b[0m in \u001b[0;36m<module>\u001b[0;34m\u001b[0m\n\u001b[1;32m      2\u001b[0m \u001b[0mt2\u001b[0m \u001b[0;34m=\u001b[0m \u001b[0mnp\u001b[0m\u001b[0;34m.\u001b[0m\u001b[0marray\u001b[0m\u001b[0;34m(\u001b[0m\u001b[0;34m(\u001b[0m\u001b[0;34m[\u001b[0m\u001b[0;36m1\u001b[0m\u001b[0;34m,\u001b[0m\u001b[0;36m0\u001b[0m\u001b[0;34m,\u001b[0m\u001b[0;36m0\u001b[0m\u001b[0;34m]\u001b[0m\u001b[0;34m,\u001b[0m\u001b[0;34m[\u001b[0m\u001b[0;36m0\u001b[0m\u001b[0;34m,\u001b[0m\u001b[0;36m1\u001b[0m\u001b[0;34m,\u001b[0m\u001b[0;36m0\u001b[0m\u001b[0;34m]\u001b[0m\u001b[0;34m,\u001b[0m\u001b[0;34m[\u001b[0m\u001b[0;34m-\u001b[0m\u001b[0;36m7\u001b[0m\u001b[0;34m,\u001b[0m\u001b[0;36m0\u001b[0m\u001b[0;34m,\u001b[0m\u001b[0;36m1\u001b[0m\u001b[0;34m]\u001b[0m\u001b[0;34m)\u001b[0m\u001b[0;34m)\u001b[0m\u001b[0;34m\u001b[0m\u001b[0;34m\u001b[0m\u001b[0m\n\u001b[1;32m      3\u001b[0m \u001b[0mt3\u001b[0m \u001b[0;34m=\u001b[0m \u001b[0mnp\u001b[0m\u001b[0;34m.\u001b[0m\u001b[0marray\u001b[0m\u001b[0;34m(\u001b[0m\u001b[0;34m(\u001b[0m\u001b[0;34m[\u001b[0m\u001b[0;36m1\u001b[0m\u001b[0;34m,\u001b[0m\u001b[0;36m0\u001b[0m\u001b[0;34m,\u001b[0m\u001b[0;36m0\u001b[0m\u001b[0;34m]\u001b[0m\u001b[0;34m,\u001b[0m\u001b[0;34m[\u001b[0m\u001b[0;36m0\u001b[0m\u001b[0;34m,\u001b[0m\u001b[0;36m1\u001b[0m\u001b[0;34m,\u001b[0m\u001b[0;36m0\u001b[0m\u001b[0;34m]\u001b[0m\u001b[0;34m,\u001b[0m\u001b[0;34m[\u001b[0m\u001b[0;36m0\u001b[0m\u001b[0;34m,\u001b[0m\u001b[0;34m-\u001b[0m\u001b[0;36m2\u001b[0m\u001b[0;34m,\u001b[0m\u001b[0;36m1\u001b[0m\u001b[0;34m]\u001b[0m\u001b[0;34m)\u001b[0m\u001b[0;34m)\u001b[0m\u001b[0;34m\u001b[0m\u001b[0;34m\u001b[0m\u001b[0m\n\u001b[0;32m----> 4\u001b[0;31m \u001b[0mres1\u001b[0m \u001b[0;34m=\u001b[0m \u001b[0mdotA\u001b[0m\u001b[0;34m(\u001b[0m\u001b[0mt1\u001b[0m\u001b[0;34m,\u001b[0m\u001b[0mA\u001b[0m\u001b[0;34m)\u001b[0m\u001b[0;34m\u001b[0m\u001b[0;34m\u001b[0m\u001b[0m\n\u001b[0m\u001b[1;32m      5\u001b[0m \u001b[0mres2\u001b[0m \u001b[0;34m=\u001b[0m \u001b[0mdotA\u001b[0m\u001b[0;34m(\u001b[0m\u001b[0mt2\u001b[0m\u001b[0;34m,\u001b[0m \u001b[0mres1\u001b[0m\u001b[0;34m)\u001b[0m\u001b[0;34m\u001b[0m\u001b[0;34m\u001b[0m\u001b[0m\n\u001b[1;32m      6\u001b[0m \u001b[0mres3\u001b[0m \u001b[0;34m=\u001b[0m \u001b[0mdotA\u001b[0m\u001b[0;34m(\u001b[0m\u001b[0mt3\u001b[0m\u001b[0;34m,\u001b[0m \u001b[0mres2\u001b[0m\u001b[0;34m)\u001b[0m\u001b[0;34m\u001b[0m\u001b[0;34m\u001b[0m\u001b[0m\n",
      "\u001b[0;32m<ipython-input-7-7c0299b56c10>\u001b[0m in \u001b[0;36m<lambda>\u001b[0;34m(A, B)\u001b[0m\n\u001b[1;32m      8\u001b[0m \u001b[0;34m\u001b[0m\u001b[0m\n\u001b[1;32m      9\u001b[0m \u001b[0;31m#Takes matrices A,B  gets the dot product from row A * col B\u001b[0m\u001b[0;34m\u001b[0m\u001b[0;34m\u001b[0m\u001b[0;34m\u001b[0m\u001b[0m\n\u001b[0;32m---> 10\u001b[0;31m \u001b[0mdotA\u001b[0m \u001b[0;34m=\u001b[0m \u001b[0;32mlambda\u001b[0m \u001b[0mA\u001b[0m\u001b[0;34m,\u001b[0m\u001b[0mB\u001b[0m \u001b[0;34m:\u001b[0m \u001b[0mnp\u001b[0m\u001b[0;34m.\u001b[0m\u001b[0marray\u001b[0m\u001b[0;34m(\u001b[0m\u001b[0;34m[\u001b[0m\u001b[0;34m[\u001b[0m\u001b[0mdotv\u001b[0m\u001b[0;34m(\u001b[0m\u001b[0mA\u001b[0m\u001b[0;34m[\u001b[0m\u001b[0mi\u001b[0m\u001b[0;34m]\u001b[0m \u001b[0;34m,\u001b[0m \u001b[0mB\u001b[0m\u001b[0;34m[\u001b[0m\u001b[0;34m:\u001b[0m\u001b[0;34m:\u001b[0m\u001b[0;34m,\u001b[0m\u001b[0mj\u001b[0m\u001b[0;34m]\u001b[0m\u001b[0;34m)\u001b[0m \u001b[0;32mfor\u001b[0m \u001b[0mj\u001b[0m \u001b[0;32min\u001b[0m \u001b[0mrange\u001b[0m\u001b[0;34m(\u001b[0m\u001b[0mB\u001b[0m\u001b[0;34m.\u001b[0m\u001b[0mshape\u001b[0m\u001b[0;34m[\u001b[0m\u001b[0;36m1\u001b[0m\u001b[0;34m]\u001b[0m\u001b[0;34m)\u001b[0m\u001b[0;34m]\u001b[0m \u001b[0;32mfor\u001b[0m \u001b[0mi\u001b[0m \u001b[0;32min\u001b[0m \u001b[0mrange\u001b[0m\u001b[0;34m(\u001b[0m\u001b[0mA\u001b[0m\u001b[0;34m.\u001b[0m\u001b[0mshape\u001b[0m\u001b[0;34m[\u001b[0m\u001b[0;36m0\u001b[0m\u001b[0;34m]\u001b[0m\u001b[0;34m)\u001b[0m\u001b[0;34m]\u001b[0m\u001b[0;34m)\u001b[0m\u001b[0;34m\u001b[0m\u001b[0;34m\u001b[0m\u001b[0m\n\u001b[0m\u001b[1;32m     11\u001b[0m \u001b[0;34m\u001b[0m\u001b[0m\n\u001b[1;32m     12\u001b[0m \u001b[0;31m#dotA = lambda A,B : np.array(  [[dotv(A[0],B[::,0]), dotv(A[0],B[::,1]), dotv(A[0],B[::,2])],\u001b[0m\u001b[0;34m\u001b[0m\u001b[0;34m\u001b[0m\u001b[0;34m\u001b[0m\u001b[0m\n",
      "\u001b[0;32m<ipython-input-7-7c0299b56c10>\u001b[0m in \u001b[0;36m<listcomp>\u001b[0;34m(.0)\u001b[0m\n\u001b[1;32m      8\u001b[0m \u001b[0;34m\u001b[0m\u001b[0m\n\u001b[1;32m      9\u001b[0m \u001b[0;31m#Takes matrices A,B  gets the dot product from row A * col B\u001b[0m\u001b[0;34m\u001b[0m\u001b[0;34m\u001b[0m\u001b[0;34m\u001b[0m\u001b[0m\n\u001b[0;32m---> 10\u001b[0;31m \u001b[0mdotA\u001b[0m \u001b[0;34m=\u001b[0m \u001b[0;32mlambda\u001b[0m \u001b[0mA\u001b[0m\u001b[0;34m,\u001b[0m\u001b[0mB\u001b[0m \u001b[0;34m:\u001b[0m \u001b[0mnp\u001b[0m\u001b[0;34m.\u001b[0m\u001b[0marray\u001b[0m\u001b[0;34m(\u001b[0m\u001b[0;34m[\u001b[0m\u001b[0;34m[\u001b[0m\u001b[0mdotv\u001b[0m\u001b[0;34m(\u001b[0m\u001b[0mA\u001b[0m\u001b[0;34m[\u001b[0m\u001b[0mi\u001b[0m\u001b[0;34m]\u001b[0m \u001b[0;34m,\u001b[0m \u001b[0mB\u001b[0m\u001b[0;34m[\u001b[0m\u001b[0;34m:\u001b[0m\u001b[0;34m:\u001b[0m\u001b[0;34m,\u001b[0m\u001b[0mj\u001b[0m\u001b[0;34m]\u001b[0m\u001b[0;34m)\u001b[0m \u001b[0;32mfor\u001b[0m \u001b[0mj\u001b[0m \u001b[0;32min\u001b[0m \u001b[0mrange\u001b[0m\u001b[0;34m(\u001b[0m\u001b[0mB\u001b[0m\u001b[0;34m.\u001b[0m\u001b[0mshape\u001b[0m\u001b[0;34m[\u001b[0m\u001b[0;36m1\u001b[0m\u001b[0;34m]\u001b[0m\u001b[0;34m)\u001b[0m\u001b[0;34m]\u001b[0m \u001b[0;32mfor\u001b[0m \u001b[0mi\u001b[0m \u001b[0;32min\u001b[0m \u001b[0mrange\u001b[0m\u001b[0;34m(\u001b[0m\u001b[0mA\u001b[0m\u001b[0;34m.\u001b[0m\u001b[0mshape\u001b[0m\u001b[0;34m[\u001b[0m\u001b[0;36m0\u001b[0m\u001b[0;34m]\u001b[0m\u001b[0;34m)\u001b[0m\u001b[0;34m]\u001b[0m\u001b[0;34m)\u001b[0m\u001b[0;34m\u001b[0m\u001b[0;34m\u001b[0m\u001b[0m\n\u001b[0m\u001b[1;32m     11\u001b[0m \u001b[0;34m\u001b[0m\u001b[0m\n\u001b[1;32m     12\u001b[0m \u001b[0;31m#dotA = lambda A,B : np.array(  [[dotv(A[0],B[::,0]), dotv(A[0],B[::,1]), dotv(A[0],B[::,2])],\u001b[0m\u001b[0;34m\u001b[0m\u001b[0;34m\u001b[0m\u001b[0;34m\u001b[0m\u001b[0m\n",
      "\u001b[0;32m<ipython-input-7-7c0299b56c10>\u001b[0m in \u001b[0;36m<listcomp>\u001b[0;34m(.0)\u001b[0m\n\u001b[1;32m      8\u001b[0m \u001b[0;34m\u001b[0m\u001b[0m\n\u001b[1;32m      9\u001b[0m \u001b[0;31m#Takes matrices A,B  gets the dot product from row A * col B\u001b[0m\u001b[0;34m\u001b[0m\u001b[0;34m\u001b[0m\u001b[0;34m\u001b[0m\u001b[0m\n\u001b[0;32m---> 10\u001b[0;31m \u001b[0mdotA\u001b[0m \u001b[0;34m=\u001b[0m \u001b[0;32mlambda\u001b[0m \u001b[0mA\u001b[0m\u001b[0;34m,\u001b[0m\u001b[0mB\u001b[0m \u001b[0;34m:\u001b[0m \u001b[0mnp\u001b[0m\u001b[0;34m.\u001b[0m\u001b[0marray\u001b[0m\u001b[0;34m(\u001b[0m\u001b[0;34m[\u001b[0m\u001b[0;34m[\u001b[0m\u001b[0mdotv\u001b[0m\u001b[0;34m(\u001b[0m\u001b[0mA\u001b[0m\u001b[0;34m[\u001b[0m\u001b[0mi\u001b[0m\u001b[0;34m]\u001b[0m \u001b[0;34m,\u001b[0m \u001b[0mB\u001b[0m\u001b[0;34m[\u001b[0m\u001b[0;34m:\u001b[0m\u001b[0;34m:\u001b[0m\u001b[0;34m,\u001b[0m\u001b[0mj\u001b[0m\u001b[0;34m]\u001b[0m\u001b[0;34m)\u001b[0m \u001b[0;32mfor\u001b[0m \u001b[0mj\u001b[0m \u001b[0;32min\u001b[0m \u001b[0mrange\u001b[0m\u001b[0;34m(\u001b[0m\u001b[0mB\u001b[0m\u001b[0;34m.\u001b[0m\u001b[0mshape\u001b[0m\u001b[0;34m[\u001b[0m\u001b[0;36m1\u001b[0m\u001b[0;34m]\u001b[0m\u001b[0;34m)\u001b[0m\u001b[0;34m]\u001b[0m \u001b[0;32mfor\u001b[0m \u001b[0mi\u001b[0m \u001b[0;32min\u001b[0m \u001b[0mrange\u001b[0m\u001b[0;34m(\u001b[0m\u001b[0mA\u001b[0m\u001b[0;34m.\u001b[0m\u001b[0mshape\u001b[0m\u001b[0;34m[\u001b[0m\u001b[0;36m0\u001b[0m\u001b[0;34m]\u001b[0m\u001b[0;34m)\u001b[0m\u001b[0;34m]\u001b[0m\u001b[0;34m)\u001b[0m\u001b[0;34m\u001b[0m\u001b[0;34m\u001b[0m\u001b[0m\n\u001b[0m\u001b[1;32m     11\u001b[0m \u001b[0;34m\u001b[0m\u001b[0m\n\u001b[1;32m     12\u001b[0m \u001b[0;31m#dotA = lambda A,B : np.array(  [[dotv(A[0],B[::,0]), dotv(A[0],B[::,1]), dotv(A[0],B[::,2])],\u001b[0m\u001b[0;34m\u001b[0m\u001b[0;34m\u001b[0m\u001b[0;34m\u001b[0m\u001b[0m\n",
      "\u001b[0;32m<ipython-input-3-5819457d2c3a>\u001b[0m in \u001b[0;36m<lambda>\u001b[0;34m(v, w)\u001b[0m\n\u001b[1;32m      6\u001b[0m \u001b[0;34m\u001b[0m\u001b[0m\n\u001b[1;32m      7\u001b[0m \u001b[0;31m# Dot product v*w = v1*w1 + v2*w2 +...+ vn*wn\u001b[0m\u001b[0;34m\u001b[0m\u001b[0;34m\u001b[0m\u001b[0;34m\u001b[0m\u001b[0m\n\u001b[0;32m----> 8\u001b[0;31m \u001b[0mdotv\u001b[0m \u001b[0;34m=\u001b[0m \u001b[0;32mlambda\u001b[0m \u001b[0mv\u001b[0m\u001b[0;34m,\u001b[0m \u001b[0mw\u001b[0m\u001b[0;34m:\u001b[0m \u001b[0msum\u001b[0m\u001b[0;34m(\u001b[0m\u001b[0mv\u001b[0m\u001b[0;34m*\u001b[0m\u001b[0mw\u001b[0m\u001b[0;34m)\u001b[0m\u001b[0;34m\u001b[0m\u001b[0;34m\u001b[0m\u001b[0m\n\u001b[0m\u001b[1;32m      9\u001b[0m \u001b[0;34m\u001b[0m\u001b[0m\n\u001b[1;32m     10\u001b[0m \u001b[0;31m#Length of vector ||v|| = √v1^2 +v2^2+...+vn^2\u001b[0m\u001b[0;34m\u001b[0m\u001b[0;34m\u001b[0m\u001b[0;34m\u001b[0m\u001b[0m\n",
      "\u001b[0;31mValueError\u001b[0m: operands could not be broadcast together with shapes (3,) (5,) "
     ]
    }
   ],
   "source": [
    "t1= np.array(([1,0,0],[-4,1,0],[0,0,1]))\n",
    "t2 = np.array(([1,0,0],[0,1,0],[-7,0,1]))\n",
    "t3 = np.array(([1,0,0],[0,1,0],[0,-2,1]))\n",
    "res1 = dotA(t1,A)\n",
    "res2 = dotA(t2, res1)\n",
    "res3 = dotA(t3, res2)\n",
    "#res3 = \n",
    "A, res1, res2,res3"
   ]
  },
  {
   "cell_type": "code",
   "execution_count": null,
   "metadata": {},
   "outputs": [
    {
     "data": {
      "text/plain": [
       "array([[a*a0 + a3*b + a6*c, a*a1 + a4*b + a7*c, a*a2 + a5*b + a8*c],\n",
       "       [a0*d + a3*e + a6*f, a1*d + a4*e + a7*f, a2*d + a5*e + a8*f],\n",
       "       [a0*g + a3*h + a6*i, a1*g + a4*h + a7*i, a2*g + a5*h + a8*i]],\n",
       "      dtype=object)"
      ]
     },
     "execution_count": 14,
     "metadata": {},
     "output_type": "execute_result"
    }
   ],
   "source": [
    "#E,A= Amat(),Amat()\n",
    "vA = np.array(([a,b,c],[d,e,f],[g,h,i]))#, np.array([[e,f],[g,h]])\n",
    "vB = np.array(([a0,a1,a2],[a3,a4,a5],[a6,a7,a8]))\n",
    "I(vA),vA\n",
    "\n",
    "#i,A,B, dotA(vA, vB), dotA(A,B)\n",
    "\n",
    "#detA3(A),\n",
    "#np.linalg.det(A), \n",
    "#E, A, dotA(E,A)\n",
    "#vA, vB, detA2(vA), detA2(vB), detA2(dotA(vA,vB))\n",
    "dotA(vA,vB)"
   ]
  },
  {
   "cell_type": "code",
   "execution_count": null,
   "metadata": {},
   "outputs": [
    {
     "ename": "NameError",
     "evalue": "name 'detA' is not defined",
     "output_type": "error",
     "traceback": [
      "\u001b[0;31m---------------------------------------------------------------------------\u001b[0m",
      "\u001b[0;31mNameError\u001b[0m                                 Traceback (most recent call last)",
      "\u001b[0;32m<ipython-input-15-fb0578bebb0d>\u001b[0m in \u001b[0;36m<module>\u001b[0;34m\u001b[0m\n\u001b[1;32m      2\u001b[0m \u001b[0mv\u001b[0m \u001b[0;34m=\u001b[0m \u001b[0mAmat\u001b[0m\u001b[0;34m(\u001b[0m\u001b[0;34m)\u001b[0m\u001b[0;34m\u001b[0m\u001b[0;34m\u001b[0m\u001b[0m\n\u001b[1;32m      3\u001b[0m \u001b[0;31m#A,v,dotA(A, v)\u001b[0m\u001b[0;34m\u001b[0m\u001b[0;34m\u001b[0m\u001b[0;34m\u001b[0m\u001b[0m\n\u001b[0;32m----> 4\u001b[0;31m \u001b[0mvA\u001b[0m\u001b[0;34m,\u001b[0m \u001b[0mvB\u001b[0m\u001b[0;34m,\u001b[0m \u001b[0mdetA\u001b[0m\u001b[0;34m(\u001b[0m\u001b[0mdotA\u001b[0m\u001b[0;34m(\u001b[0m\u001b[0mvA\u001b[0m\u001b[0;34m,\u001b[0m\u001b[0mvB\u001b[0m\u001b[0;34m)\u001b[0m\u001b[0;34m)\u001b[0m\u001b[0;34m,\u001b[0m \u001b[0mdetA\u001b[0m\u001b[0;34m(\u001b[0m\u001b[0mvA\u001b[0m\u001b[0;34m)\u001b[0m\u001b[0;34m,\u001b[0m \u001b[0mdetA\u001b[0m\u001b[0;34m(\u001b[0m\u001b[0mvB\u001b[0m\u001b[0;34m)\u001b[0m\u001b[0;34m\u001b[0m\u001b[0;34m\u001b[0m\u001b[0m\n\u001b[0m",
      "\u001b[0;31mNameError\u001b[0m: name 'detA' is not defined"
     ]
    }
   ],
   "source": [
    "A = Amat()\n",
    "v = Amat()\n",
    "#A,v,dotA(A, v)\n",
    "vA, vB, detA(dotA(vA,vB)), detA(vA), detA(vB)"
   ]
  },
  {
   "cell_type": "code",
   "execution_count": null,
   "metadata": {},
   "outputs": [],
   "source": [
    "\n",
    "A,v"
   ]
  },
  {
   "cell_type": "code",
   "execution_count": null,
   "metadata": {},
   "outputs": [],
   "source": [
    "dotA(A,v)\n"
   ]
  },
  {
   "cell_type": "code",
   "execution_count": null,
   "metadata": {},
   "outputs": [],
   "source": [
    "\n",
    "np.linalg.tensorsolve(A,[1,1,1])\n",
    "np.linalg.cond(A), np.linalg.det(A),detA3(A)"
   ]
  },
  {
   "cell_type": "code",
   "execution_count": null,
   "metadata": {},
   "outputs": [],
   "source": [
    "A[0],B[::,0], len(B.T)\n",
    "[print(i) for i in B[::,1]]\n",
    "#[i for i in range(B.shape[1])]"
   ]
  },
  {
   "cell_type": "code",
   "execution_count": null,
   "metadata": {},
   "outputs": [],
   "source": [
    "dotA(Amat(),Amat())"
   ]
  },
  {
   "cell_type": "code",
   "execution_count": null,
   "metadata": {},
   "outputs": [
    {
     "data": {
      "text/plain": [
       "140201258445392"
      ]
     },
     "execution_count": 67,
     "metadata": {},
     "output_type": "execute_result"
    }
   ],
   "source": [
    "ide(A)"
   ]
  },
  {
   "cell_type": "code",
   "execution_count": null,
   "metadata": {},
   "outputs": [],
   "source": [
    "A[1]"
   ]
  },
  {
   "cell_type": "code",
   "execution_count": null,
   "metadata": {},
   "outputs": [],
   "source": [
    " v ,w =n(),  n()\n",
    " \n",
    " dotv(v,w)"
   ]
  },
  {
   "cell_type": "code",
   "execution_count": null,
   "metadata": {},
   "outputs": [],
   "source": [
    "\n",
    "\n",
    "def plotv (u,v= np.zeros_like(u), w =np.zeros_like(u) ):\n",
    "    M = np.array([u,v,w])\n",
    "    print(M, M.T.shape)\n",
    "    rows,cols = M.T.shape\n",
    "    #maxes = 1.2*np.amax(abs(M), axis = 0)\n",
    "\n",
    "    for i,l in enumerate(range(0,cols)):\n",
    "        xs = [0,M[i,0]]\n",
    "        ys = [0,M[i,1]]\n",
    "        print(xs,ys, )\n",
    "        plt.plot(xs,ys)\n",
    "\n",
    "    plt.plot(0,0,'ok') #<-- plot a black point at the origin\n",
    "    plt.axis('equal')  #<-- set the axes to the same scale\n",
    "    #plt.xlim([-maxes[0],maxes[0]]) #<-- set the x axis limits\n",
    "    #plt.ylim([-maxes[1],maxes[1]]) #<-- set the y axis limits\n",
    "    plt.axhline(color='black')\n",
    "    plt.axvline(color='black')\n",
    "    plt.legend(['V'+str(i+1) for i in range(cols)]) #<-- give a legend\n",
    "    plt.grid(b=True, which='major') #<-- plot grid lines\n",
    "    \n",
    "    return plt.show()\n",
    "\n",
    "def plotv1(u,v= np.zeros_like(u), w =np.zeros_like(u) ):\n",
    "    M = np.array([u,v,w])\n",
    "    rows,cols = M.T.shape\n",
    "    y = map(lambda M, i:   (\n",
    "                                [0, M[[M[0:i], 0]]], \n",
    "                                [0, M[[M[0:i], 1]]] ),\n",
    "                                (M, range(0,cols)))\n",
    "\n",
    "    print(range(0,3,1), M[0,0],y)\n",
    "\n",
    "    #plt.plot(y)\n",
    "\n",
    "    plt.plot(0,0,'ok') #<-- plot a black point at the origin\n",
    "    plt.axis('equal')  #<-- set the axes to the same scale\n",
    "    #plt.xlim([-maxes[0],maxes[0]]) #<-- set the x axis limits\n",
    "    #plt.ylim([-maxes[1],maxes[1]]) #<-- set the y axis limits\n",
    "    plt.axhline(color='black')\n",
    "    plt.axvline(color='black')\n",
    "    #plt.legend(['V'+str(i+1) for i in range(cols)]) #<-- give a legend\n",
    "    plt.grid(b=True, which='major') #<-- plot grid lines\n",
    "    return y\n",
    "\n",
    "#np.zeros\n",
    "u = np.array([-.6,.8])\n",
    "v = np.array([4,3])\n",
    "w = np.array([1,2])\n",
    "plotv(w,v)#,dotv(u,v))"
   ]
  },
  {
   "cell_type": "code",
   "execution_count": null,
   "metadata": {},
   "outputs": [],
   "source": [
    "dotv(w,v),unitv(v)\n",
    "\n",
    "\n",
    "#lenv(v)"
   ]
  },
  {
   "cell_type": "code",
   "execution_count": null,
   "metadata": {},
   "outputs": [],
   "source": [
    "#Q 1.2a\n",
    "v = np.array([3,4])\n",
    "w = np.array([2,3])\n",
    "schwarz(v,w), triIneq(v,w), cosθ(v,w), degθ(cosθ(v,w))"
   ]
  },
  {
   "cell_type": "code",
   "execution_count": null,
   "metadata": {},
   "outputs": [],
   "source": [
    "#Q1.2b\n",
    "unitv(v)"
   ]
  },
  {
   "cell_type": "code",
   "execution_count": null,
   "metadata": {},
   "outputs": [],
   "source": [
    "#prob set 1.2\n",
    "#q1 \n",
    "u = np.array([-.6,.8])\n",
    "v = np.array([4,3])\n",
    "w = np.array([1,2])\n",
    "\n",
    "dotv(u,v), dotv(u,w), dotv(u,v+w), dotv(v,w)"
   ]
  },
  {
   "cell_type": "code",
   "execution_count": null,
   "metadata": {},
   "outputs": [],
   "source": [
    "#q2\n",
    "lenv(u),lenv(v),lenv(w), schwarz(u,v), schwarz(v,w)"
   ]
  },
  {
   "cell_type": "code",
   "execution_count": null,
   "metadata": {},
   "outputs": [],
   "source": [
    "dotv(unitv((v-w)),unitv((v+w))),unitv((v-w)), unitv(v+w),v-w, v+w\n"
   ]
  },
  {
   "cell_type": "code",
   "execution_count": null,
   "metadata": {},
   "outputs": [],
   "source": [
    "v, w = np.array([-1, -2,3]), np.array([4,0,-8])\n",
    "dotv(v,w) "
   ]
  },
  {
   "cell_type": "code",
   "execution_count": null,
   "metadata": {},
   "outputs": [],
   "source": [
    "-v,v"
   ]
  },
  {
   "cell_type": "code",
   "execution_count": null,
   "metadata": {},
   "outputs": [],
   "source": [
    "l = ( x/sym.sqrt(y) )**2\n",
    "m = (x/sym.sqrt(y) )\n",
    "sym.sqrt(l), m"
   ]
  },
  {
   "cell_type": "code",
   "execution_count": null,
   "metadata": {},
   "outputs": [],
   "source": [
    "if sym.sqrt(l) ==  m:\n",
    "    print (f'True {sym.sqrt(l)} = {m}:')\n",
    "else:\n",
    "    print(False)"
   ]
  },
  {
   "cell_type": "code",
   "execution_count": null,
   "metadata": {},
   "outputs": [],
   "source": [
    "l = lambda x, y: ( x/sym.sqrt(y) )**2\n",
    "m = lambda x, y: (x/sym.sqrt(y) )"
   ]
  },
  {
   "cell_type": "code",
   "execution_count": null,
   "metadata": {},
   "outputs": [],
   "source": [
    "sym.sqrt(l(3,4)), m(3,4)\n"
   ]
  },
  {
   "cell_type": "code",
   "execution_count": null,
   "metadata": {},
   "outputs": [],
   "source": [
    "v, w = np.array([2,2,-1]), np.array([2,-1,2])\n",
    "dotv(v,w), lenv(v),lenv(w), cosθ(v,w),degθ(cosθ(v,w))\n"
   ]
  },
  {
   "cell_type": "code",
   "execution_count": null,
   "metadata": {},
   "outputs": [],
   "source": [
    "n= lambda : [int(i) for i in input()] \n",
    "#print(type(a()),a())\n",
    "\n",
    "#x = \n"
   ]
  },
  {
   "cell_type": "code",
   "execution_count": null,
   "metadata": {},
   "outputs": [],
   "source": [
    "\n",
    "\n",
    "dimA"
   ]
  },
  {
   "cell_type": "code",
   "execution_count": null,
   "metadata": {},
   "outputs": [],
   "source": [
    "dimA = np.zeros((n()))\n",
    "A = np.reshape(np.asarray(n()), dimA.shape)\n",
    "A"
   ]
  },
  {
   "cell_type": "code",
   "execution_count": null,
   "metadata": {},
   "outputs": [],
   "source": [
    "#dotA = "
   ]
  },
  {
   "cell_type": "code",
   "execution_count": null,
   "metadata": {},
   "outputs": [],
   "source": [
    "np.linalg.inv(A)"
   ]
  },
  {
   "cell_type": "code",
   "execution_count": null,
   "metadata": {},
   "outputs": [],
   "source": [
    "#crossA = lambda A:\n",
    "len(A) "
   ]
  },
  {
   "cell_type": "code",
   "execution_count": null,
   "metadata": {},
   "outputs": [],
   "source": []
  }
 ],
 "metadata": {
  "interpreter": {
   "hash": "c5137471df1762b4d57d7f3c34598d6cff1e4de7ffbd68dcb93d3c42327ffcc6"
  },
  "kernelspec": {
   "display_name": "Python 3.8.8 64-bit ('base': conda)",
   "name": "python3"
  },
  "language_info": {
   "codemirror_mode": {
    "name": "ipython",
    "version": 3
   },
   "file_extension": ".py",
   "mimetype": "text/x-python",
   "name": "python",
   "nbconvert_exporter": "python",
   "pygments_lexer": "ipython3",
   "version": "3.8.8"
  },
  "orig_nbformat": 4
 },
 "nbformat": 4,
 "nbformat_minor": 2
}

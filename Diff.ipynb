{
 "cells": [
  {
   "cell_type": "code",
   "execution_count": 3,
   "metadata": {},
   "outputs": [],
   "source": [
    "import numpy as np\n",
    "import matplotlib.pyplot as plt\n",
    "from IPython.display import Math\n",
    "\n",
    "#from sympy import *\n",
    "import sympy as sym\n",
    "from sympy.vector import CoordSys3D\n",
    "\n",
    "'''import import_ipynb\n",
    "import LAFormulas.ipynb\n",
    "#from ipynb.fs.defs.LAFormulas import *\n",
    "'''\n",
    "\n",
    "#init_session()\n",
    "\n",
    "\n",
    "x, y, z,t,u,v, a,b,c,d,e,f,g,h = sym.symbols('x y z t u v a b c d e f g h ', positive = True, real = True, integer = True)\n",
    "a0,a1,a2,a3,a4,a5,a6,a7,a8 =sym.symbols('a:9')\n",
    "sin,cos, sinh, cosh = sym.sin, sym.cos, sym.sinh, sym.cosh\n",
    "om, spi, phi = sym.symbols('omega pi phi', positive = True, real = True, integer = True)\n",
    "u0, v0 = sym.symbols('u_0 v_0' ,positive = True, real = True, integer = True)\n",
    "\n",
    "N = CoordSys3D('N')\n",
    "i,j,k = N.i, N.j, N.k\n",
    "\n",
    "\n"
   ]
  },
  {
   "cell_type": "code",
   "execution_count": 4,
   "metadata": {},
   "outputs": [],
   "source": [
    "#n= lambda : [i for i in enumerate([int(i) if i.isnumeric() else i for i in input()])]\n",
    "#n= lambda s = '' : np.array([int(i) if i.isnumeric() ==True else sym.sympify(i)  for i in input(s)]   )       \n",
    "\n",
    "eq = lambda s= '': [sym.parse_expr(i) for i in input(s).split('+')]\n",
    "#r = eq()"
   ]
  },
  {
   "cell_type": "code",
   "execution_count": 5,
   "metadata": {},
   "outputs": [
    {
     "ename": "NameError",
     "evalue": "name 'ln' is not defined",
     "output_type": "error",
     "traceback": [
      "\u001b[0;31m---------------------------------------------------------------------------\u001b[0m",
      "\u001b[0;31mNameError\u001b[0m                                 Traceback (most recent call last)",
      "\u001b[1;32m/home/potz/Code/diff/Diff.ipynb Cell 3'\u001b[0m in \u001b[0;36m<module>\u001b[0;34m\u001b[0m\n\u001b[1;32m      <a href='vscode-notebook-cell:/home/potz/Code/diff/Diff.ipynb#ch0000002?line=0'>1</a>\u001b[0m \u001b[39m#r = 2*t+3*cos(t)\u001b[39;00m\n\u001b[1;32m      <a href='vscode-notebook-cell:/home/potz/Code/diff/Diff.ipynb#ch0000002?line=1'>2</a>\u001b[0m \u001b[39m#r = [x**2*t,3*cos(t), -sin(2*t)]\u001b[39;00m\n\u001b[1;32m      <a href='vscode-notebook-cell:/home/potz/Code/diff/Diff.ipynb#ch0000002?line=2'>3</a>\u001b[0m p1 \u001b[39m=\u001b[39m t\u001b[39m+\u001b[39m(t\u001b[39m*\u001b[39m\u001b[39m*\u001b[39m\u001b[39m2\u001b[39m)\u001b[39m/\u001b[39m\u001b[39m2\u001b[39m\u001b[39m+\u001b[39mt \n\u001b[0;32m----> <a href='vscode-notebook-cell:/home/potz/Code/diff/Diff.ipynb#ch0000002?line=3'>4</a>\u001b[0m r\u001b[39m=\u001b[39m [ln(t), sin(t\u001b[39m*\u001b[39m\u001b[39m*\u001b[39m\u001b[39m2\u001b[39m), exp(\u001b[39m-\u001b[39m\u001b[39m3\u001b[39m\u001b[39m*\u001b[39mt) ]\n\u001b[1;32m      <a href='vscode-notebook-cell:/home/potz/Code/diff/Diff.ipynb#ch0000002?line=4'>5</a>\u001b[0m p1, r\n",
      "\u001b[0;31mNameError\u001b[0m: name 'ln' is not defined"
     ]
    }
   ],
   "source": [
    "#r = 2*t+3*cos(t)\n",
    "#r = [x**2*t,3*cos(t), -sin(2*t)]\n",
    "p1 = t+(t**2)/2+t \n",
    "r= [ln(t), sin(t**2), exp(-3*t) ]\n",
    "p1, r#, r[0].diff(t),r[1].diff(t), r[2].diff(t)"
   ]
  },
  {
   "cell_type": "code",
   "execution_count": 6,
   "metadata": {},
   "outputs": [
    {
     "data": {
      "text/plain": [
       "[int, sympy.core.mul.Mul, sympy.core.mul.Mul]"
      ]
     },
     "execution_count": 6,
     "metadata": {},
     "output_type": "execute_result"
    }
   ],
   "source": [
    "p1 = [0, u0*t, (g*t**2)/2]#[t,(t**2)/2,t]#\n",
    "p2 = [v0*t, 0, (g*t**2)/2]#[(t**2)/2,t,t]#\n",
    "#vel(p1,t),vel(p2,t),cosθ(p1, p2,t), sym.vector.dot(spd(p1,t),spd(p2,t))\n",
    "#cosθ(p1,p2)\n",
    "[type(i) for i in p1]\n",
    "#vel(p1, t)"
   ]
  },
  {
   "cell_type": "code",
   "execution_count": 7,
   "metadata": {},
   "outputs": [
    {
     "data": {
      "text/plain": [
       "(g**2*t**2,\n",
       " sqrt(g**2*t**2 + u_0**2)*sqrt(g**2*t**2 + v_0**2),\n",
       " g**2*t**2/(sqrt(g**2*t**2 + u_0**2)*sqrt(g**2*t**2 + v_0**2)),\n",
       " acos(g**2*t**2/(sqrt(g**2*t**2 + u_0**2)*sqrt(g**2*t**2 + v_0**2))))"
      ]
     },
     "execution_count": 7,
     "metadata": {},
     "output_type": "execute_result"
    }
   ],
   "source": [
    "vel = lambda r, t: [0 if type(i)==int else i.diff(t) for i in r]\n",
    "acc = lambda r, t: vel(vel(r,t),t)\n",
    "\n",
    "spd = lambda r, t: sym.sqrt(sum([i**2 for i in vel(r,t)]))\n",
    "\n",
    "cosθ = lambda r1, r2, t: (np.dot(vel(r1,t),vel(r2,t)) / np.dot(spd(p1,t),spd(p2,t)))\n",
    "\n",
    "θ = lambda r1,r2, t: sym.acos(cosθ(r1,r2,t))\n",
    "\n",
    "np.dot(vel(p1,t),vel(p2,t)), spd(p1,t)*spd(p2,t), cosθ(p1,p2,t), θ(p1,p2,t)"
   ]
  },
  {
   "cell_type": "code",
   "execution_count": 8,
   "metadata": {},
   "outputs": [
    {
     "ename": "NameError",
     "evalue": "name 'r' is not defined",
     "output_type": "error",
     "traceback": [
      "\u001b[0;31m---------------------------------------------------------------------------\u001b[0m",
      "\u001b[0;31mNameError\u001b[0m                                 Traceback (most recent call last)",
      "\u001b[1;32m/home/potz/Code/diff/Diff.ipynb Cell 6'\u001b[0m in \u001b[0;36m<module>\u001b[0;34m\u001b[0m\n\u001b[1;32m      <a href='vscode-notebook-cell:/home/potz/Code/diff/Diff.ipynb#ch0000005?line=2'>3</a>\u001b[0m     \u001b[39mprint\u001b[39m(\u001b[39mf\u001b[39m\u001b[39m'\u001b[39m\u001b[39mfor particle \u001b[39m\u001b[39m{\u001b[39;00mr\u001b[39m}\u001b[39;00m\u001b[39m velocity = \u001b[39m\u001b[39m{\u001b[39;00mvel(r,t)\u001b[39m}\u001b[39;00m\u001b[39m speed = \u001b[39m\u001b[39m{\u001b[39;00mspd(r,t)\u001b[39m}\u001b[39;00m\u001b[39m and acceleration = \u001b[39m\u001b[39m{\u001b[39;00macc(r,t)\u001b[39m}\u001b[39;00m\u001b[39m'\u001b[39m)\n\u001b[1;32m      <a href='vscode-notebook-cell:/home/potz/Code/diff/Diff.ipynb#ch0000005?line=3'>4</a>\u001b[0m     \u001b[39mreturn\u001b[39;00m\u001b[39m#(r,vel(r,t),spd(r,t),acc(r,t))\u001b[39;00m\n\u001b[0;32m----> <a href='vscode-notebook-cell:/home/potz/Code/diff/Diff.ipynb#ch0000005?line=5'>6</a>\u001b[0m diffall(r,t)\n",
      "\u001b[0;31mNameError\u001b[0m: name 'r' is not defined"
     ]
    }
   ],
   "source": [
    "def diffall(r,t):\n",
    "    #ccode(vel(r,t))\n",
    "    print(f'for particle {r} velocity = {vel(r,t)} speed = {spd(r,t)} and acceleration = {acc(r,t)}')\n",
    "    return#(r,vel(r,t),spd(r,t),acc(r,t))\n",
    "    \n",
    "diffall(r,t)"
   ]
  },
  {
   "cell_type": "code",
   "execution_count": null,
   "metadata": {},
   "outputs": [
    {
     "data": {
      "image/png": "[encoded data removed]",
      "text/latex": [
       "$\\displaystyle 1$"
      ],
      "text/plain": [
       "1"
      ]
     },
     "execution_count": 15,
     "metadata": {},
     "output_type": "execute_result"
    }
   ],
   "source": [
    "sym.limit(cosθ(p1,p2,t),t,oo)"
   ]
  },
  {
   "cell_type": "code",
   "execution_count": null,
   "metadata": {},
   "outputs": [
    {
     "data": {
      "text/latex": [
       "$\\displaystyle \\text{NaN}$"
      ],
      "text/plain": [
       "nan"
      ]
     },
     "execution_count": 16,
     "metadata": {},
     "output_type": "execute_result"
    }
   ],
   "source": [
    "(sym.diff(np.dot(vel(p1,t),vel(p2,t)),t) / sym.diff(np.dot(spd(p1,t),spd(p2,t)),t)).subs(t,oo)"
   ]
  },
  {
   "cell_type": "code",
   "execution_count": null,
   "metadata": {},
   "outputs": [
    {
     "ename": "SyntaxError",
     "evalue": "invalid syntax (<ipython-input-17-8785b2a09afe>, line 1)",
     "output_type": "error",
     "traceback": [
      "\u001b[0;36m  File \u001b[0;32m\"<ipython-input-17-8785b2a09afe>\"\u001b[0;36m, line \u001b[0;32m1\u001b[0m\n\u001b[0;31m    sym.limit(np.dot(vel(p1,t),vel(p2,t)),t,oo)  sym.limit(np.dot(spd(p1,t),spd(p2,t)),t,oo)\u001b[0m\n\u001b[0m                                                 ^\u001b[0m\n\u001b[0;31mSyntaxError\u001b[0m\u001b[0;31m:\u001b[0m invalid syntax\n"
     ]
    }
   ],
   "source": [
    "sym.limit(np.dot(vel(p1,t),vel(p2,t)),t,oo)  sym.limit(np.dot(spd(p1,t),spd(p2,t)),t,oo)"
   ]
  },
  {
   "cell_type": "code",
   "execution_count": null,
   "metadata": {},
   "outputs": [
    {
     "data": {
      "image/png": "[encoded data removed]",
      "text/latex": [
       "$\\displaystyle \\left( e^{- t} + \\frac{1}{t + 1}, \\  \\log{\\left(t + 1 \\right)} - e^{- t}, \\  t \\log{\\left(t + 1 \\right)} - t + \\log{\\left(t + 1 \\right)} + e^{- t}\\right)$"
      ],
      "text/plain": [
       "⎛ -t     1                  -t                                   -t⎞\n",
       "⎜ℯ   + ─────, log(t + 1) - ℯ  , t⋅log(t + 1) - t + log(t + 1) + ℯ  ⎟\n",
       "⎝      t + 1                                                       ⎠"
      ]
     },
     "execution_count": 75,
     "metadata": {},
     "output_type": "execute_result"
    }
   ],
   "source": [
    "a = exp(-t) + (1/(1+t))\n",
    "v = sym.integrate(a,t)\n",
    "r= sym.integrate(v,t)\n",
    "a,v,r"
   ]
  },
  {
   "cell_type": "code",
   "execution_count": null,
   "metadata": {},
   "outputs": [
    {
     "ename": "AttributeError",
     "evalue": "'int' object has no attribute 'diff'",
     "output_type": "error",
     "traceback": [
      "\u001b[0;31m---------------------------------------------------------------------------\u001b[0m",
      "\u001b[0;31mAttributeError\u001b[0m                            Traceback (most recent call last)",
      "\u001b[0;32m<ipython-input-7-c1e72e03f708>\u001b[0m in \u001b[0;36m<module>\u001b[0;34m\u001b[0m\n\u001b[1;32m      1\u001b[0m \u001b[0mp\u001b[0m \u001b[0;34m=\u001b[0m \u001b[0;36m1\u001b[0m\u001b[0;34m\u001b[0m\u001b[0;34m\u001b[0m\u001b[0m\n\u001b[0;32m----> 2\u001b[0;31m \u001b[0;34m(\u001b[0m\u001b[0mp\u001b[0m\u001b[0;34m)\u001b[0m\u001b[0;34m.\u001b[0m\u001b[0mdiff\u001b[0m\u001b[0;34m(\u001b[0m\u001b[0;34m)\u001b[0m\u001b[0;34m\u001b[0m\u001b[0;34m\u001b[0m\u001b[0m\n\u001b[0m",
      "\u001b[0;31mAttributeError\u001b[0m: 'int' object has no attribute 'diff'"
     ]
    }
   ],
   "source": [
    "#p = 1\n",
    "#(p).diff()"
   ]
  },
  {
   "cell_type": "code",
   "execution_count": null,
   "metadata": {},
   "outputs": [
    {
     "data": {
      "image/png": "[encoded data removed]",
      "text/latex": [
       "$\\displaystyle \\left( \\frac{\\pi}{2}, \\  0\\right)$"
      ],
      "text/plain": [
       "⎛π   ⎞\n",
       "⎜─, 0⎟\n",
       "⎝2   ⎠"
      ]
     },
     "execution_count": 29,
     "metadata": {},
     "output_type": "execute_result"
    }
   ],
   "source": [
    "\n",
    "\n",
    "r, vel(r,t), acc(r,t), #spd(r,t)\n",
    "\n",
    "sum(r)\n",
    "θ(p1,p2,t).subs(t,0), limit(θ(p1,p2,t),t , oo)\n"
   ]
  },
  {
   "cell_type": "code",
   "execution_count": null,
   "metadata": {},
   "outputs": [
    {
     "data": {
      "text/plain": [
       "'vel = lambda r: sym.diff(r, t)\\nacc = lambda r: sym.diff(r, t, 2)\\nspd = lambda r: sym.sqrt((vel(r))**2)\\n\\ncosθ = lambda r1, r2: sym.vector.dot(vel(r1),vel(r2)) / spd(p1)*spd(p2)'"
      ]
     },
     "execution_count": 10,
     "metadata": {},
     "output_type": "execute_result"
    }
   ],
   "source": [
    "'''vel = lambda r: sym.diff(r, t)\n",
    "acc = lambda r: sym.diff(r, t, 2)\n",
    "spd = lambda r: sym.sqrt((vel(r))**2)\n",
    "\n",
    "cosθ = lambda r1, r2: sym.vector.dot(vel(r1),vel(r2)) / spd(p1)*spd(p2)'''"
   ]
  },
  {
   "cell_type": "code",
   "execution_count": null,
   "metadata": {},
   "outputs": [
    {
     "ename": "NameError",
     "evalue": "name 'lst' is not defined",
     "output_type": "error",
     "traceback": [
      "\u001b[0;31m---------------------------------------------------------------------------\u001b[0m",
      "\u001b[0;31mNameError\u001b[0m                                 Traceback (most recent call last)",
      "\u001b[0;32m<ipython-input-11-a9f5d41152f9>\u001b[0m in \u001b[0;36m<module>\u001b[0;34m\u001b[0m\n\u001b[0;32m----> 1\u001b[0;31m \u001b[0mlst\u001b[0m \u001b[0;34m+=\u001b[0m \u001b[0;34m[\u001b[0m\u001b[0mi\u001b[0m \u001b[0;32mfor\u001b[0m \u001b[0mi\u001b[0m \u001b[0;32min\u001b[0m \u001b[0mr\u001b[0m\u001b[0;34m]\u001b[0m\u001b[0;34m\u001b[0m\u001b[0;34m\u001b[0m\u001b[0m\n\u001b[0m\u001b[1;32m      2\u001b[0m \u001b[0;31m#np.apply_along_axis(sym.Add, r,0)\u001b[0m\u001b[0;34m\u001b[0m\u001b[0;34m\u001b[0m\u001b[0;34m\u001b[0m\u001b[0m\n",
      "\u001b[0;31mNameError\u001b[0m: name 'lst' is not defined"
     ]
    }
   ],
   "source": [
    "lst += [i for i in r]\n",
    "#np.apply_along_axis(sym.Add, r,0)"
   ]
  },
  {
   "cell_type": "code",
   "execution_count": null,
   "metadata": {},
   "outputs": [
    {
     "data": {
      "image/png": "[encoded data removed]",
      "text/latex": [
       "$\\displaystyle (2 \\omega^{2} t)\\mathbf{\\hat{i}_{N}} + (- 3 \\omega^{3} t^{3} \\sin{\\left(3 t \\right)} + 3 \\omega^{3} t^{2} \\cos{\\left(3 t \\right)})\\mathbf{\\hat{j}_{N}} + (\\omega \\cosh{\\left(\\omega t \\right)})\\mathbf{\\hat{k}_{N}}$"
      ],
      "text/plain": [
       "⎛   2  ⎞        ⎛     3  3               3  2         ⎞                       \n",
       "⎝2⋅ω ⋅t⎠ i_N  + ⎝- 3⋅ω ⋅t ⋅sin(3⋅t) + 3⋅ω ⋅t ⋅cos(3⋅t)⎠ j_N  + (ω⋅cosh(ω⋅t)) k\n",
       "\n",
       "  \n",
       "_N"
      ]
     },
     "execution_count": 139,
     "metadata": {},
     "output_type": "execute_result"
    }
   ],
   "source": [
    "#r = eq();r #(omega)**2*t**2+(omega)**3*t**3+sinh((omega)*t)\n",
    "N = CoordSys3D('N')\n",
    "r = (om)**2*t**2*N.i  +cos(3*t)*(om)**3*t**3*N.j  +sinh((om)*t)*N.k\n",
    "r.diff(t)"
   ]
  },
  {
   "cell_type": "code",
   "execution_count": null,
   "metadata": {},
   "outputs": [
    {
     "data": {
      "image/png": "[encoded data removed]",
      "text/latex": [
       "$\\displaystyle \\left( (\\omega^{2} t^{2})\\mathbf{\\hat{i}_{N}} + (\\omega^{3} t^{3} \\cos{\\left(3 t \\right)})\\mathbf{\\hat{j}_{N}} + (\\sinh{\\left(\\omega t \\right)})\\mathbf{\\hat{k}_{N}}, \\  (2 \\omega^{2} t)\\mathbf{\\hat{i}_{N}} + (- 3 \\omega^{3} t^{3} \\sin{\\left(3 t \\right)} + 3 \\omega^{3} t^{2} \\cos{\\left(3 t \\right)})\\mathbf{\\hat{j}_{N}} + (\\omega \\cosh{\\left(\\omega t \\right)})\\mathbf{\\hat{k}_{N}}, \\  \\sqrt{\\left((2 \\omega^{2} t)\\mathbf{\\hat{i}_{N}} + (- 3 \\omega^{3} t^{3} \\sin{\\left(3 t \\right)} + 3 \\omega^{3} t^{2} \\cos{\\left(3 t \\right)})\\mathbf{\\hat{j}_{N}} + (\\omega \\cosh{\\left(\\omega t \\right)})\\mathbf{\\hat{k}_{N}}\\right)^{2}}, \\  (2 \\omega^{2})\\mathbf{\\hat{i}_{N}} + (- 9 \\omega^{3} t^{3} \\cos{\\left(3 t \\right)} - 18 \\omega^{3} t^{2} \\sin{\\left(3 t \\right)} + 6 \\omega^{3} t \\cos{\\left(3 t \\right)})\\mathbf{\\hat{j}_{N}} + (\\omega^{2} \\sinh{\\left(\\omega t \\right)})\\mathbf{\\hat{k}_{N}}\\right)$"
      ],
      "text/plain": [
       "⎛                                                                             \n",
       "⎜                                                                             \n",
       "⎜⎛ 2  2⎞        ⎛ 3  3         ⎞                       , ⎛   2  ⎞        ⎛    \n",
       "⎝⎝ω ⋅t ⎠ i_N  + ⎝ω ⋅t ⋅cos(3⋅t)⎠ j_N  + (sinh(ω⋅t)) k_N  ⎝2⋅ω ⋅t⎠ i_N  + ⎝- 3⋅\n",
       "\n",
       "                                                                 _____________\n",
       "                                                                ╱             \n",
       " 3  3               3  2         ⎞                         ,   ╱  ⎛   2  ⎞    \n",
       "ω ⋅t ⋅sin(3⋅t) + 3⋅ω ⋅t ⋅cos(3⋅t)⎠ j_N  + (ω⋅cosh(ω⋅t)) k_N  ╲╱   ⎝2⋅ω ⋅t⎠ i_N\n",
       "\n",
       "______________________________________________________________________        \n",
       "                                                                    2         \n",
       "    ⎛     3  3               3  2         ⎞                           , ⎛   2⎞\n",
       "  + ⎝- 3⋅ω ⋅t ⋅sin(3⋅t) + 3⋅ω ⋅t ⋅cos(3⋅t)⎠ j_N  + (ω⋅cosh(ω⋅t)) k_N    ⎝2⋅ω ⎠\n",
       "\n",
       "                                                                              \n",
       "                                                                              \n",
       "        ⎛     3  3                3  2               3           ⎞        ⎛ 2 \n",
       " i_N  + ⎝- 9⋅ω ⋅t ⋅cos(3⋅t) - 18⋅ω ⋅t ⋅sin(3⋅t) + 6⋅ω ⋅t⋅cos(3⋅t)⎠ j_N  + ⎝ω ⋅\n",
       "\n",
       "               ⎞\n",
       "               ⎟\n",
       "         ⎞     ⎟\n",
       "sinh(ω⋅t)⎠ k_N ⎠"
      ]
     },
     "execution_count": 81,
     "metadata": {},
     "output_type": "execute_result"
    }
   ],
   "source": [
    "\n",
    "v = sym.diff(r,t)\n",
    "speed = sym.sqrt(v**2)\n",
    "a = sym.diff(v,t)\n",
    "r, v, speed, a\n",
    "#(v**2"
   ]
  },
  {
   "cell_type": "code",
   "execution_count": null,
   "metadata": {},
   "outputs": [
    {
     "data": {
      "image/png": "[encoded data removed]",
      "text/latex": [
       "$\\displaystyle \\left( 3 t^{2} x^{3} + 2 t x^{2} + x \\cosh{\\left(t x \\right)}, \\  3 t^{2} x^{3} + 2 t x^{2} + x \\cosh{\\left(t x \\right)}\\right)$"
      ],
      "text/plain": [
       "⎛   2  3        2                   2  3        2              ⎞\n",
       "⎝3⋅t ⋅x  + 2⋅t⋅x  + x⋅cosh(t⋅x), 3⋅t ⋅x  + 2⋅t⋅x  + x⋅cosh(t⋅x)⎠"
      ]
     },
     "execution_count": 83,
     "metadata": {},
     "output_type": "execute_result"
    }
   ],
   "source": [
    "test =  (x**2*t**2+x**3*t**3+sinh(x*t))\n",
    "vel(test),spd(test)"
   ]
  },
  {
   "cell_type": "code",
   "execution_count": null,
   "metadata": {},
   "outputs": [
    {
     "data": {
      "image/png": "[encoded data removed]",
      "text/latex": [
       "$\\displaystyle \\left( - 2 t - 3 \\sin{\\left(3 t \\right)} + 2, \\  \\left|{2 t + 3 \\sin{\\left(3 t \\right)} - 2}\\right|\\right)$"
      ],
      "text/plain": [
       "(-2⋅t - 3⋅sin(3⋅t) + 2, │2⋅t + 3⋅sin(3⋅t) - 2│)"
      ]
     },
     "execution_count": 96,
     "metadata": {},
     "output_type": "execute_result"
    }
   ],
   "source": [
    "\n",
    "a = (2*t+cos(3*t)-t**2)\n",
    "vel(a),spd(a)"
   ]
  },
  {
   "cell_type": "code",
   "execution_count": null,
   "metadata": {},
   "outputs": [
    {
     "ename": "AttributeError",
     "evalue": "'list' object has no attribute 'strip'",
     "output_type": "error",
     "traceback": [
      "\u001b[0;31m---------------------------------------------------------------------------\u001b[0m",
      "\u001b[0;31mAttributeError\u001b[0m                            Traceback (most recent call last)",
      "\u001b[0;32m<ipython-input-54-799d1da50425>\u001b[0m in \u001b[0;36m<module>\u001b[0;34m\u001b[0m\n\u001b[1;32m      2\u001b[0m \u001b[0;31m#pl = +\u001b[0m\u001b[0;34m\u001b[0m\u001b[0;34m\u001b[0m\u001b[0;34m\u001b[0m\u001b[0m\n\u001b[1;32m      3\u001b[0m \u001b[0mex\u001b[0m\u001b[0;34m=\u001b[0m \u001b[0msym\u001b[0m\u001b[0;34m.\u001b[0m\u001b[0mExpr\u001b[0m\u001b[0;34m\u001b[0m\u001b[0;34m\u001b[0m\u001b[0m\n\u001b[0;32m----> 4\u001b[0;31m \u001b[0mparse_expr\u001b[0m\u001b[0;34m(\u001b[0m\u001b[0;34m[\u001b[0m\u001b[0msym\u001b[0m\u001b[0;34m.\u001b[0m\u001b[0mAdd\u001b[0m\u001b[0;34m(\u001b[0m\u001b[0mi\u001b[0m\u001b[0;34m)\u001b[0m \u001b[0;32mfor\u001b[0m \u001b[0mi\u001b[0m \u001b[0;32min\u001b[0m \u001b[0mz\u001b[0m \u001b[0;34m]\u001b[0m\u001b[0;34m)\u001b[0m\u001b[0;34m\u001b[0m\u001b[0;34m\u001b[0m\u001b[0m\n\u001b[0m",
      "\u001b[0;32m~/anaconda3/lib/python3.8/site-packages/sympy/parsing/sympy_parser.py\u001b[0m in \u001b[0;36mparse_expr\u001b[0;34m(s, local_dict, transformations, global_dict, evaluate)\u001b[0m\n\u001b[1;32m   1008\u001b[0m                     \u001b[0ma\u001b[0m \u001b[0mtransformation\u001b[0m \u001b[0mshould\u001b[0m \u001b[0mbe\u001b[0m \u001b[0mfunction\u001b[0m \u001b[0mthat\u001b[0m\u001b[0;34m\u001b[0m\u001b[0;34m\u001b[0m\u001b[0m\n\u001b[1;32m   1009\u001b[0m                     takes 3 arguments'''))\n\u001b[0;32m-> 1010\u001b[0;31m     \u001b[0mcode\u001b[0m \u001b[0;34m=\u001b[0m \u001b[0mstringify_expr\u001b[0m\u001b[0;34m(\u001b[0m\u001b[0ms\u001b[0m\u001b[0;34m,\u001b[0m \u001b[0mlocal_dict\u001b[0m\u001b[0;34m,\u001b[0m \u001b[0mglobal_dict\u001b[0m\u001b[0;34m,\u001b[0m \u001b[0mtransformations\u001b[0m\u001b[0;34m)\u001b[0m\u001b[0;34m\u001b[0m\u001b[0;34m\u001b[0m\u001b[0m\n\u001b[0m\u001b[1;32m   1011\u001b[0m \u001b[0;34m\u001b[0m\u001b[0m\n\u001b[1;32m   1012\u001b[0m     \u001b[0;32mif\u001b[0m \u001b[0;32mnot\u001b[0m \u001b[0mevaluate\u001b[0m\u001b[0;34m:\u001b[0m\u001b[0;34m\u001b[0m\u001b[0;34m\u001b[0m\u001b[0m\n",
      "\u001b[0;32m~/anaconda3/lib/python3.8/site-packages/sympy/parsing/sympy_parser.py\u001b[0m in \u001b[0;36mstringify_expr\u001b[0;34m(s, local_dict, global_dict, transformations)\u001b[0m\n\u001b[1;32m    892\u001b[0m \u001b[0;34m\u001b[0m\u001b[0m\n\u001b[1;32m    893\u001b[0m     \u001b[0mtokens\u001b[0m \u001b[0;34m=\u001b[0m \u001b[0;34m[\u001b[0m\u001b[0;34m]\u001b[0m\u001b[0;34m\u001b[0m\u001b[0;34m\u001b[0m\u001b[0m\n\u001b[0;32m--> 894\u001b[0;31m     \u001b[0minput_code\u001b[0m \u001b[0;34m=\u001b[0m \u001b[0mStringIO\u001b[0m\u001b[0;34m(\u001b[0m\u001b[0ms\u001b[0m\u001b[0;34m.\u001b[0m\u001b[0mstrip\u001b[0m\u001b[0;34m(\u001b[0m\u001b[0;34m)\u001b[0m\u001b[0;34m)\u001b[0m\u001b[0;34m\u001b[0m\u001b[0;34m\u001b[0m\u001b[0m\n\u001b[0m\u001b[1;32m    895\u001b[0m     \u001b[0;32mfor\u001b[0m \u001b[0mtoknum\u001b[0m\u001b[0;34m,\u001b[0m \u001b[0mtokval\u001b[0m\u001b[0;34m,\u001b[0m \u001b[0m_\u001b[0m\u001b[0;34m,\u001b[0m \u001b[0m_\u001b[0m\u001b[0;34m,\u001b[0m \u001b[0m_\u001b[0m \u001b[0;32min\u001b[0m \u001b[0mgenerate_tokens\u001b[0m\u001b[0;34m(\u001b[0m\u001b[0minput_code\u001b[0m\u001b[0;34m.\u001b[0m\u001b[0mreadline\u001b[0m\u001b[0;34m)\u001b[0m\u001b[0;34m:\u001b[0m\u001b[0;34m\u001b[0m\u001b[0;34m\u001b[0m\u001b[0m\n\u001b[1;32m    896\u001b[0m         \u001b[0mtokens\u001b[0m\u001b[0;34m.\u001b[0m\u001b[0mappend\u001b[0m\u001b[0;34m(\u001b[0m\u001b[0;34m(\u001b[0m\u001b[0mtoknum\u001b[0m\u001b[0;34m,\u001b[0m \u001b[0mtokval\u001b[0m\u001b[0;34m)\u001b[0m\u001b[0;34m)\u001b[0m\u001b[0;34m\u001b[0m\u001b[0;34m\u001b[0m\u001b[0m\n",
      "\u001b[0;31mAttributeError\u001b[0m: 'list' object has no attribute 'strip'"
     ]
    }
   ],
   "source": [
    "z = [t**2, cos(2*t)]\n",
    "#pl = +\n",
    "ex= sym.Expr\n",
    "parse_expr([sym.Add(i) for i in z ])"
   ]
  },
  {
   "cell_type": "code",
   "execution_count": null,
   "metadata": {},
   "outputs": [
    {
     "ename": "AttributeError",
     "evalue": "'list' object has no attribute 'strip'",
     "output_type": "error",
     "traceback": [
      "\u001b[0;31m---------------------------------------------------------------------------\u001b[0m",
      "\u001b[0;31mAttributeError\u001b[0m                            Traceback (most recent call last)",
      "\u001b[0;32m<ipython-input-55-2e45788c1169>\u001b[0m in \u001b[0;36m<module>\u001b[0;34m\u001b[0m\n\u001b[0;32m----> 1\u001b[0;31m \u001b[0mparse_expr\u001b[0m\u001b[0;34m(\u001b[0m\u001b[0mz\u001b[0m\u001b[0;34m)\u001b[0m\u001b[0;34m\u001b[0m\u001b[0;34m\u001b[0m\u001b[0m\n\u001b[0m",
      "\u001b[0;32m~/anaconda3/lib/python3.8/site-packages/sympy/parsing/sympy_parser.py\u001b[0m in \u001b[0;36mparse_expr\u001b[0;34m(s, local_dict, transformations, global_dict, evaluate)\u001b[0m\n\u001b[1;32m   1008\u001b[0m                     \u001b[0ma\u001b[0m \u001b[0mtransformation\u001b[0m \u001b[0mshould\u001b[0m \u001b[0mbe\u001b[0m \u001b[0mfunction\u001b[0m \u001b[0mthat\u001b[0m\u001b[0;34m\u001b[0m\u001b[0;34m\u001b[0m\u001b[0m\n\u001b[1;32m   1009\u001b[0m                     takes 3 arguments'''))\n\u001b[0;32m-> 1010\u001b[0;31m     \u001b[0mcode\u001b[0m \u001b[0;34m=\u001b[0m \u001b[0mstringify_expr\u001b[0m\u001b[0;34m(\u001b[0m\u001b[0ms\u001b[0m\u001b[0;34m,\u001b[0m \u001b[0mlocal_dict\u001b[0m\u001b[0;34m,\u001b[0m \u001b[0mglobal_dict\u001b[0m\u001b[0;34m,\u001b[0m \u001b[0mtransformations\u001b[0m\u001b[0;34m)\u001b[0m\u001b[0;34m\u001b[0m\u001b[0;34m\u001b[0m\u001b[0m\n\u001b[0m\u001b[1;32m   1011\u001b[0m \u001b[0;34m\u001b[0m\u001b[0m\n\u001b[1;32m   1012\u001b[0m     \u001b[0;32mif\u001b[0m \u001b[0;32mnot\u001b[0m \u001b[0mevaluate\u001b[0m\u001b[0;34m:\u001b[0m\u001b[0;34m\u001b[0m\u001b[0;34m\u001b[0m\u001b[0m\n",
      "\u001b[0;32m~/anaconda3/lib/python3.8/site-packages/sympy/parsing/sympy_parser.py\u001b[0m in \u001b[0;36mstringify_expr\u001b[0;34m(s, local_dict, global_dict, transformations)\u001b[0m\n\u001b[1;32m    892\u001b[0m \u001b[0;34m\u001b[0m\u001b[0m\n\u001b[1;32m    893\u001b[0m     \u001b[0mtokens\u001b[0m \u001b[0;34m=\u001b[0m \u001b[0;34m[\u001b[0m\u001b[0;34m]\u001b[0m\u001b[0;34m\u001b[0m\u001b[0;34m\u001b[0m\u001b[0m\n\u001b[0;32m--> 894\u001b[0;31m     \u001b[0minput_code\u001b[0m \u001b[0;34m=\u001b[0m \u001b[0mStringIO\u001b[0m\u001b[0;34m(\u001b[0m\u001b[0ms\u001b[0m\u001b[0;34m.\u001b[0m\u001b[0mstrip\u001b[0m\u001b[0;34m(\u001b[0m\u001b[0;34m)\u001b[0m\u001b[0;34m)\u001b[0m\u001b[0;34m\u001b[0m\u001b[0;34m\u001b[0m\u001b[0m\n\u001b[0m\u001b[1;32m    895\u001b[0m     \u001b[0;32mfor\u001b[0m \u001b[0mtoknum\u001b[0m\u001b[0;34m,\u001b[0m \u001b[0mtokval\u001b[0m\u001b[0;34m,\u001b[0m \u001b[0m_\u001b[0m\u001b[0;34m,\u001b[0m \u001b[0m_\u001b[0m\u001b[0;34m,\u001b[0m \u001b[0m_\u001b[0m \u001b[0;32min\u001b[0m \u001b[0mgenerate_tokens\u001b[0m\u001b[0;34m(\u001b[0m\u001b[0minput_code\u001b[0m\u001b[0;34m.\u001b[0m\u001b[0mreadline\u001b[0m\u001b[0;34m)\u001b[0m\u001b[0;34m:\u001b[0m\u001b[0;34m\u001b[0m\u001b[0;34m\u001b[0m\u001b[0m\n\u001b[1;32m    896\u001b[0m         \u001b[0mtokens\u001b[0m\u001b[0;34m.\u001b[0m\u001b[0mappend\u001b[0m\u001b[0;34m(\u001b[0m\u001b[0;34m(\u001b[0m\u001b[0mtoknum\u001b[0m\u001b[0;34m,\u001b[0m \u001b[0mtokval\u001b[0m\u001b[0;34m)\u001b[0m\u001b[0;34m)\u001b[0m\u001b[0;34m\u001b[0m\u001b[0;34m\u001b[0m\u001b[0m\n",
      "\u001b[0;31mAttributeError\u001b[0m: 'list' object has no attribute 'strip'"
     ]
    }
   ],
   "source": [
    "parse_expr(z)"
   ]
  },
  {
   "cell_type": "code",
   "execution_count": null,
   "metadata": {},
   "outputs": [
    {
     "data": {
      "image/png": "[encoded data removed]",
      "text/latex": [
       "$\\displaystyle \\mathbf{\\hat{i}_{N}}$"
      ],
      "text/plain": [
       "i_N"
      ]
     },
     "execution_count": 6,
     "metadata": {},
     "output_type": "execute_result"
    }
   ],
   "source": [
    "\n",
    "N.i"
   ]
  },
  {
   "cell_type": "code",
   "execution_count": null,
   "metadata": {},
   "outputs": [],
   "source": []
  }
 ],
 "metadata": {
  "interpreter": {
   "hash": "64865580939b03588026cf20edba9cae1ed0db66aab5d5aa771efbf8c03b4750"
  },
  "kernelspec": {
   "display_name": "Python 3.8.8 64-bit ('base': conda)",
   "name": "python3"
  },
  "language_info": {
   "codemirror_mode": {
    "name": "ipython",
    "version": 3
   },
   "file_extension": ".py",
   "mimetype": "text/x-python",
   "name": "python",
   "nbconvert_exporter": "python",
   "pygments_lexer": "ipython3",
   "version": "3.9.7"
  },
  "orig_nbformat": 4
 },
 "nbformat": 4,
 "nbformat_minor": 2
}
